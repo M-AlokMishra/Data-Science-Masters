{
 "cells": [
  {
   "cell_type": "markdown",
   "id": "cd5776b2-fa83-404d-8064-99b26cb8fd23",
   "metadata": {},
   "source": [
    "# Question.1)"
   ]
  },
  {
   "cell_type": "markdown",
   "id": "92d587e3-c6b9-4562-9686-21a9becec34f",
   "metadata": {},
   "source": [
    "***Explain Class and Object with respect to Object-Oriented Programming. Give a suitable example.***"
   ]
  },
  {
   "cell_type": "markdown",
   "id": "054243fc-faf5-4d1f-98b2-b01a41e73276",
   "metadata": {},
   "source": [
    "**Ans.)**"
   ]
  },
  {
   "cell_type": "markdown",
   "id": "ea4424e7-9d15-42d4-a8fc-d2ddf483233b",
   "metadata": {},
   "source": [
    "Classes are user-defined data types that act as the blueprint for individual objects, attributes and methods."
   ]
  },
  {
   "cell_type": "code",
   "execution_count": 1,
   "id": "84c3197d-1322-45eb-9cbe-63791aac1728",
   "metadata": {},
   "outputs": [],
   "source": [
    "class my_duniya :\n",
    "    def namaste_duniya(self) :\n",
    "        print(\"Namaste_Duniya!!\")"
   ]
  },
  {
   "cell_type": "markdown",
   "id": "0a0f0812-91ac-42d8-925b-facf659193df",
   "metadata": {},
   "source": [
    "Objects are instances or variables of a class created with specifically defined data."
   ]
  },
  {
   "cell_type": "code",
   "execution_count": 2,
   "id": "a907ff12-716c-4d7d-a82d-46d8874183bb",
   "metadata": {},
   "outputs": [],
   "source": [
    "# object\n",
    "duniya = my_duniya()"
   ]
  },
  {
   "cell_type": "code",
   "execution_count": 3,
   "id": "e68c2209-f4ab-455e-aa77-c89bfd1cfed7",
   "metadata": {},
   "outputs": [
    {
     "name": "stdout",
     "output_type": "stream",
     "text": [
      "Namaste_Duniya!!\n"
     ]
    }
   ],
   "source": [
    "duniya.namaste_duniya()"
   ]
  },
  {
   "cell_type": "markdown",
   "id": "9826f576-7446-4ddb-89bc-732f7df06843",
   "metadata": {},
   "source": [
    "# Question.2)"
   ]
  },
  {
   "cell_type": "markdown",
   "id": "f882c41b-b352-4bc9-bf86-d70c61ca2674",
   "metadata": {},
   "source": [
    "***Name the four pillars of OOPs.***"
   ]
  },
  {
   "cell_type": "markdown",
   "id": "1d4298cf-63ea-439b-98b5-4b8ea8fb9e27",
   "metadata": {},
   "source": [
    "**Ans.)** Four pillars of oop's are :-"
   ]
  },
  {
   "cell_type": "markdown",
   "id": "fb599cd7-4bc5-4953-bdc7-a8030d035080",
   "metadata": {},
   "source": [
    "------> Polymorphism."
   ]
  },
  {
   "cell_type": "markdown",
   "id": "60499f25-426d-4bfe-909b-d31014837f19",
   "metadata": {},
   "source": [
    "------> Encapsulation."
   ]
  },
  {
   "cell_type": "markdown",
   "id": "98ba8f4a-3f48-439e-a03d-122df62babaf",
   "metadata": {},
   "source": [
    "------> Inheritance"
   ]
  },
  {
   "cell_type": "markdown",
   "id": "83e9ecdf-53f8-4f0c-aa7a-c90844d22cf5",
   "metadata": {},
   "source": [
    "------> Abstraction"
   ]
  },
  {
   "cell_type": "markdown",
   "id": "bb29e715-cc85-419e-b1cf-22917b08f5db",
   "metadata": {},
   "source": [
    "# Question.3)"
   ]
  },
  {
   "cell_type": "markdown",
   "id": "b01d8a64-5548-4b0d-b98b-1c8b0db7d074",
   "metadata": {},
   "source": [
    "***Explain why the __init__() function is used. Give a suitable example.***"
   ]
  },
  {
   "cell_type": "markdown",
   "id": "7b29977b-78a8-4560-a81c-09cd54f5a6f8",
   "metadata": {},
   "source": [
    "**Ans.)** The __init__() method lets the class initialize the object's attributes and serves no other purpose."
   ]
  },
  {
   "cell_type": "code",
   "execution_count": 4,
   "id": "46ffbfbf-4f03-42dd-a8bb-7ccb8d6bbda0",
   "metadata": {},
   "outputs": [],
   "source": [
    "# for example :-\n",
    "\n",
    "\n",
    "class insT2t_data :\n",
    "    \n",
    "    def __init__(insT2t, student_name, student_class, student_fees) :\n",
    "        insT2t.student_name = student_name\n",
    "        insT2t.student_class = student_class\n",
    "        insT2t.student_fees = student_fees\n",
    "        \n",
    "    def return_student_data(insT2t) :\n",
    "        return insT2t.student_name, insT2t.student_class, insT2t.student_fees\n",
    "    "
   ]
  },
  {
   "cell_type": "code",
   "execution_count": 5,
   "id": "7cd9cab2-c61c-4f28-bc96-423689fd0c94",
   "metadata": {},
   "outputs": [],
   "source": [
    "alok = insT2t_data(\"Alok Mishra\", \"Data Sscience Masters\", 3200)"
   ]
  },
  {
   "cell_type": "code",
   "execution_count": 6,
   "id": "6b972441-2ec2-43bb-b6e1-b61d93a475cb",
   "metadata": {},
   "outputs": [
    {
     "data": {
      "text/plain": [
       "('Alok Mishra', 'Data Sscience Masters', 3200)"
      ]
     },
     "execution_count": 6,
     "metadata": {},
     "output_type": "execute_result"
    }
   ],
   "source": [
    "alok.return_student_data()"
   ]
  },
  {
   "cell_type": "markdown",
   "id": "9dc199fc-56f3-4108-bcc5-954504cf8cc2",
   "metadata": {},
   "source": [
    "# Question.4)"
   ]
  },
  {
   "cell_type": "markdown",
   "id": "58d267d0-575c-49d1-8724-36f6c1ee22b6",
   "metadata": {},
   "source": [
    "***Why self is used in OOPs?***"
   ]
  },
  {
   "cell_type": "markdown",
   "id": "13467c12-ff6a-422f-8981-25ae7007e16f",
   "metadata": {},
   "source": [
    "**Ans.)** The self variable is used to represent the instance of the class which is often used in OOPs. It works as a reference to the object."
   ]
  },
  {
   "cell_type": "markdown",
   "id": "82104f8c-394d-452b-a197-e21de0b27c8f",
   "metadata": {},
   "source": [
    "# Question.5)"
   ]
  },
  {
   "cell_type": "markdown",
   "id": "d6861c8c-bb84-4dd7-a0d2-098799108900",
   "metadata": {},
   "source": [
    "***What is inheritance? Give an example for each type of inheritance.***"
   ]
  },
  {
   "cell_type": "markdown",
   "id": "08060a07-5176-4e39-ba2c-7b83b91e4a70",
   "metadata": {},
   "source": [
    "**Ans.)** Inheritance is one of the 4 pillars of OOPs concept, in this we extract \"parent class\" using \"child class\", because properties of \"parent class\" inherited to it's \"child class\"."
   ]
  },
  {
   "cell_type": "markdown",
   "id": "1f2efabc-43f9-44f5-8918-bccef14024b5",
   "metadata": {},
   "source": [
    "**Several Types of Inheritance mentioned below along with examples :-**"
   ]
  },
  {
   "cell_type": "markdown",
   "id": "bd5ed8a8-1d3e-42d4-a405-6f0f9ae2487b",
   "metadata": {},
   "source": [
    "**-----> 1.) Single Inheritance <-----**  { One Parent class having One Child class }"
   ]
  },
  {
   "cell_type": "code",
   "execution_count": 7,
   "id": "a27dcbe4-791b-460e-bda0-be8366e52d2d",
   "metadata": {},
   "outputs": [],
   "source": [
    "class step :\n",
    "    \n",
    "    def parent_class(self) :\n",
    "        return \"I am parent and I will called by my child\"\n",
    "    "
   ]
  },
  {
   "cell_type": "code",
   "execution_count": 8,
   "id": "b2517300-ead6-4ff1-a261-8571268ea95f",
   "metadata": {},
   "outputs": [],
   "source": [
    "class child_step(step) :\n",
    "    pass"
   ]
  },
  {
   "cell_type": "code",
   "execution_count": 9,
   "id": "97d39871-10d0-49de-b4e4-a0de66ab71a4",
   "metadata": {},
   "outputs": [],
   "source": [
    "obj_child_step = child_step()"
   ]
  },
  {
   "cell_type": "code",
   "execution_count": 10,
   "id": "83fc37be-586e-4afd-9d2a-2b599365bb16",
   "metadata": {},
   "outputs": [
    {
     "data": {
      "text/plain": [
       "'I am parent and I will called by my child'"
      ]
     },
     "execution_count": 10,
     "metadata": {},
     "output_type": "execute_result"
    }
   ],
   "source": [
    "obj_child_step.parent_class()"
   ]
  },
  {
   "cell_type": "markdown",
   "id": "6a85d139-7ed4-4fce-ad1e-caea71951b57",
   "metadata": {},
   "source": [
    "**----->  2.) Multiple Inheritance <-----**  { Two or more than Two Parent class having One Child Class }"
   ]
  },
  {
   "cell_type": "code",
   "execution_count": 11,
   "id": "dc924843-910f-46f9-8fd0-e4a9df4eb133",
   "metadata": {},
   "outputs": [],
   "source": [
    "class Father :\n",
    "    \n",
    "    def Father_Class(self) :\n",
    "        return \"It's Father Class will call by child class\""
   ]
  },
  {
   "cell_type": "code",
   "execution_count": 12,
   "id": "12fd2f66-81c3-4951-9915-8893782f87db",
   "metadata": {},
   "outputs": [],
   "source": [
    "class Mother :\n",
    "    \n",
    "    def Mother_Class(self) :\n",
    "        return \"It's Mother Class also will call by child class\""
   ]
  },
  {
   "cell_type": "code",
   "execution_count": 13,
   "id": "6fbdb4b9-632d-4555-9354-ec868b0eade5",
   "metadata": {},
   "outputs": [],
   "source": [
    "class Child(Father, Mother) :\n",
    "    pass"
   ]
  },
  {
   "cell_type": "code",
   "execution_count": 14,
   "id": "80cb05a4-c52d-4dd8-9e9e-65005c3e75a1",
   "metadata": {},
   "outputs": [],
   "source": [
    "obj_Child = Child()"
   ]
  },
  {
   "cell_type": "code",
   "execution_count": 15,
   "id": "fa558a82-fda1-4fd1-ab80-9ff7b9a69f31",
   "metadata": {},
   "outputs": [
    {
     "data": {
      "text/plain": [
       "\"It's Father Class will call by child class\""
      ]
     },
     "execution_count": 15,
     "metadata": {},
     "output_type": "execute_result"
    }
   ],
   "source": [
    "obj_Child.Father_Class()"
   ]
  },
  {
   "cell_type": "code",
   "execution_count": 16,
   "id": "95b1a95f-fbcc-4ec6-af60-7c692235e453",
   "metadata": {},
   "outputs": [
    {
     "data": {
      "text/plain": [
       "\"It's Mother Class also will call by child class\""
      ]
     },
     "execution_count": 16,
     "metadata": {},
     "output_type": "execute_result"
    }
   ],
   "source": [
    "obj_Child.Mother_Class()"
   ]
  },
  {
   "cell_type": "markdown",
   "id": "27fe7aca-b9af-4cc1-9963-c95298bcd0a1",
   "metadata": {},
   "source": [
    "**-----> 3.) Multi-level Inheritance <-----** { Child Class will call Two or more than Two Parent class by having a chain process, If child call mother then father will called automatically. }"
   ]
  },
  {
   "cell_type": "code",
   "execution_count": 17,
   "id": "bcc731dc-50cd-4047-9120-d19e12dff61f",
   "metadata": {},
   "outputs": [],
   "source": [
    "class Father1 :\n",
    "    \n",
    "    def Father_Class1(self) :\n",
    "        return \"It's Father_1 Class will call by child_1 class\""
   ]
  },
  {
   "cell_type": "code",
   "execution_count": 18,
   "id": "bfc12a4b-3490-4ae3-b07c-6f5bec1c2502",
   "metadata": {},
   "outputs": [],
   "source": [
    "class Mother1(Father1) :\n",
    "    \n",
    "    def Mother_Class1(self) :\n",
    "        return \"It's Mother_1 Class also will call by child_1 class\""
   ]
  },
  {
   "cell_type": "code",
   "execution_count": 19,
   "id": "d5daf3ad-3cfa-442c-8566-78c69d7022d4",
   "metadata": {},
   "outputs": [],
   "source": [
    "class Child1(Mother1) :\n",
    "    pass"
   ]
  },
  {
   "cell_type": "code",
   "execution_count": 20,
   "id": "e22f5b31-9e46-499f-895f-52ee723dd06a",
   "metadata": {},
   "outputs": [],
   "source": [
    "obj_Child1 = Child1()"
   ]
  },
  {
   "cell_type": "code",
   "execution_count": 21,
   "id": "99304e6f-f9e7-4670-9dea-aecc2f8dfc13",
   "metadata": {},
   "outputs": [
    {
     "data": {
      "text/plain": [
       "\"It's Father_1 Class will call by child_1 class\""
      ]
     },
     "execution_count": 21,
     "metadata": {},
     "output_type": "execute_result"
    }
   ],
   "source": [
    "obj_Child1.Father_Class1()"
   ]
  },
  {
   "cell_type": "code",
   "execution_count": 22,
   "id": "9382326a-1677-4d90-a021-de8e8b69d503",
   "metadata": {},
   "outputs": [
    {
     "data": {
      "text/plain": [
       "\"It's Mother_1 Class also will call by child_1 class\""
      ]
     },
     "execution_count": 22,
     "metadata": {},
     "output_type": "execute_result"
    }
   ],
   "source": [
    "obj_Child1.Mother_Class1()"
   ]
  },
  {
   "cell_type": "markdown",
   "id": "62e36a6d-c1e8-42a7-84dd-42d9170eb1cc",
   "metadata": {},
   "source": [
    "**-----> Hierarchical Inheritance <-----** { One Parent class have Two or more than Two child class }"
   ]
  },
  {
   "cell_type": "code",
   "execution_count": 23,
   "id": "63e31118-0eda-4d60-ae54-ab77edb68292",
   "metadata": {},
   "outputs": [],
   "source": [
    "class Parent:\n",
    "    def func1(self):\n",
    "        print(\"This function is in parent class.\")"
   ]
  },
  {
   "cell_type": "code",
   "execution_count": 24,
   "id": "332d28db-9d3b-4707-97ff-a0e5dc0fe05c",
   "metadata": {},
   "outputs": [],
   "source": [
    "class Child1(Parent):\n",
    "    def func2(self):\n",
    "        print(\"This function is in child 1.\")"
   ]
  },
  {
   "cell_type": "code",
   "execution_count": 25,
   "id": "be42ef25-5e7e-4c51-ae6c-40c90f5218cd",
   "metadata": {},
   "outputs": [],
   "source": [
    "class Child2(Parent):\n",
    "    def func3(self):\n",
    "        print(\"This function is in child 2.\")"
   ]
  },
  {
   "cell_type": "code",
   "execution_count": 26,
   "id": "7371bd54-bb7f-4f61-9074-f30f5ca15a09",
   "metadata": {},
   "outputs": [],
   "source": [
    "obj_child1 = Child1()"
   ]
  },
  {
   "cell_type": "code",
   "execution_count": 27,
   "id": "92c59e84-6d00-4fa0-b07c-30a78190befd",
   "metadata": {},
   "outputs": [],
   "source": [
    "obj_child2 = Child2()"
   ]
  },
  {
   "cell_type": "code",
   "execution_count": 28,
   "id": "9fbe059e-43b8-44a3-a22a-2f893815168a",
   "metadata": {},
   "outputs": [
    {
     "name": "stdout",
     "output_type": "stream",
     "text": [
      "This function is in parent class.\n"
     ]
    }
   ],
   "source": [
    "obj_child1.func1()"
   ]
  },
  {
   "cell_type": "code",
   "execution_count": 29,
   "id": "06081113-8008-40b4-933d-ccfc5b49b8fb",
   "metadata": {},
   "outputs": [
    {
     "name": "stdout",
     "output_type": "stream",
     "text": [
      "This function is in child 1.\n"
     ]
    }
   ],
   "source": [
    "obj_child1.func2()"
   ]
  },
  {
   "cell_type": "code",
   "execution_count": 30,
   "id": "febcb544-b2cd-4988-92fd-2f1631545873",
   "metadata": {},
   "outputs": [
    {
     "name": "stdout",
     "output_type": "stream",
     "text": [
      "This function is in parent class.\n"
     ]
    }
   ],
   "source": [
    "obj_child2.func1()"
   ]
  },
  {
   "cell_type": "code",
   "execution_count": 31,
   "id": "36707cf9-a07e-4352-8882-bd6a8888aade",
   "metadata": {},
   "outputs": [
    {
     "name": "stdout",
     "output_type": "stream",
     "text": [
      "This function is in child 2.\n"
     ]
    }
   ],
   "source": [
    "obj_child2.func3()"
   ]
  },
  {
   "cell_type": "markdown",
   "id": "ab7c59c0-e9e1-4bdd-8ee1-5a085609b12e",
   "metadata": {},
   "source": [
    "**-----> Hybrid Inheritance <-----** { Consisting of multiple types of inheritance is called hybrid inheritance. }"
   ]
  },
  {
   "cell_type": "code",
   "execution_count": 32,
   "id": "1064b118-97d3-4bda-8a04-6036cd7b1899",
   "metadata": {},
   "outputs": [],
   "source": [
    "class School:\n",
    "    def func1(self):\n",
    "        print(\"This function is in school.\")"
   ]
  },
  {
   "cell_type": "code",
   "execution_count": 33,
   "id": "c77c8118-4cea-41b6-a8b7-480f4bf7482a",
   "metadata": {},
   "outputs": [],
   "source": [
    "class Student1(School):\n",
    "    def func2(self):\n",
    "        print(\"This function is in student 1. \")"
   ]
  },
  {
   "cell_type": "code",
   "execution_count": 34,
   "id": "6be8b0c4-f983-4fa8-97b5-dbffb3a69bc4",
   "metadata": {},
   "outputs": [],
   "source": [
    "class Student2(School):\n",
    "    def func3(self):\n",
    "        print(\"This function is in student 2.\")"
   ]
  },
  {
   "cell_type": "code",
   "execution_count": 35,
   "id": "c2286f0f-ad50-4339-88c4-11f653c9555c",
   "metadata": {},
   "outputs": [],
   "source": [
    "class Student3(Student1, School):\n",
    "    def func4(self):\n",
    "        print(\"This function is in student 3.\")"
   ]
  },
  {
   "cell_type": "code",
   "execution_count": 36,
   "id": "a7250ea1-b1a1-4525-8f8b-f962e38f3e26",
   "metadata": {},
   "outputs": [],
   "source": [
    "obj_student3 = Student3()\n",
    "obj_student2 = Student2()"
   ]
  },
  {
   "cell_type": "code",
   "execution_count": 37,
   "id": "dd525180-1f7e-4db5-a4ea-ce5a0301445e",
   "metadata": {},
   "outputs": [
    {
     "name": "stdout",
     "output_type": "stream",
     "text": [
      "This function is in school.\n",
      "This function is in student 1. \n"
     ]
    }
   ],
   "source": [
    "obj_student3.func1()\n",
    "obj_student3.func2()"
   ]
  },
  {
   "cell_type": "code",
   "execution_count": 38,
   "id": "c7b2f0e2-5e68-4489-9fb0-c773f8c16cac",
   "metadata": {},
   "outputs": [
    {
     "name": "stdout",
     "output_type": "stream",
     "text": [
      "This function is in school.\n",
      "This function is in student 2.\n"
     ]
    }
   ],
   "source": [
    "obj_student2.func1()\n",
    "obj_student2.func3()"
   ]
  },
  {
   "cell_type": "code",
   "execution_count": null,
   "id": "db9350ac-9244-4022-ad0d-aef9034ff777",
   "metadata": {},
   "outputs": [],
   "source": []
  }
 ],
 "metadata": {
  "kernelspec": {
   "display_name": "Python 3 (ipykernel)",
   "language": "python",
   "name": "python3"
  },
  "language_info": {
   "codemirror_mode": {
    "name": "ipython",
    "version": 3
   },
   "file_extension": ".py",
   "mimetype": "text/x-python",
   "name": "python",
   "nbconvert_exporter": "python",
   "pygments_lexer": "ipython3",
   "version": "3.10.8"
  }
 },
 "nbformat": 4,
 "nbformat_minor": 5
}
