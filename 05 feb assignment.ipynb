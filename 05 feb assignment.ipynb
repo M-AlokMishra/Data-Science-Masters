{
 "cells": [
  {
   "cell_type": "markdown",
   "id": "cd5776b2-fa83-404d-8064-99b26cb8fd23",
   "metadata": {},
   "source": [
    "# Question.1)"
   ]
  },
  {
   "cell_type": "markdown",
   "id": "92d587e3-c6b9-4562-9686-21a9becec34f",
   "metadata": {},
   "source": [
    "***Explain Class and Object with respect to Object-Oriented Programming. Give a suitable example.***"
   ]
  },
  {
   "cell_type": "markdown",
   "id": "054243fc-faf5-4d1f-98b2-b01a41e73276",
   "metadata": {},
   "source": [
    "**Ans.)**"
   ]
  },
  {
   "cell_type": "markdown",
   "id": "ea4424e7-9d15-42d4-a8fc-d2ddf483233b",
   "metadata": {},
   "source": [
    "Classes are user-defined data types that act as the blueprint for individual objects, attributes and methods."
   ]
  },
  {
   "cell_type": "code",
   "execution_count": 1,
   "id": "84c3197d-1322-45eb-9cbe-63791aac1728",
   "metadata": {},
   "outputs": [],
   "source": [
    "class my_duniya :\n",
    "    def namaste_duniya(self) :\n",
    "        print(\"Namaste_Duniya!!\")"
   ]
  },
  {
   "cell_type": "markdown",
   "id": "0a0f0812-91ac-42d8-925b-facf659193df",
   "metadata": {},
   "source": [
    "Objects are instances or variables of a class created with specifically defined data."
   ]
  },
  {
   "cell_type": "code",
   "execution_count": 2,
   "id": "a907ff12-716c-4d7d-a82d-46d8874183bb",
   "metadata": {},
   "outputs": [],
   "source": [
    "# object\n",
    "duniya = my_duniya()"
   ]
  },
  {
   "cell_type": "code",
   "execution_count": 3,
   "id": "e68c2209-f4ab-455e-aa77-c89bfd1cfed7",
   "metadata": {},
   "outputs": [
    {
     "name": "stdout",
     "output_type": "stream",
     "text": [
      "Namaste_Duniya!!\n"
     ]
    }
   ],
   "source": [
    "duniya.namaste_duniya()"
   ]
  },
  {
   "cell_type": "markdown",
   "id": "9826f576-7446-4ddb-89bc-732f7df06843",
   "metadata": {},
   "source": [
    "# Question.2)"
   ]
  },
  {
   "cell_type": "markdown",
   "id": "f882c41b-b352-4bc9-bf86-d70c61ca2674",
   "metadata": {},
   "source": [
    "***Name the four pillars of OOPs.***"
   ]
  },
  {
   "cell_type": "markdown",
   "id": "1d4298cf-63ea-439b-98b5-4b8ea8fb9e27",
   "metadata": {},
   "source": [
    "**Ans.)** Four pillars of oop's are :-"
   ]
  },
  {
   "cell_type": "markdown",
   "id": "fb599cd7-4bc5-4953-bdc7-a8030d035080",
   "metadata": {},
   "source": [
    "------> Polymorphism."
   ]
  },
  {
   "cell_type": "markdown",
   "id": "60499f25-426d-4bfe-909b-d31014837f19",
   "metadata": {},
   "source": [
    "------> Encapsulation."
   ]
  },
  {
   "cell_type": "markdown",
   "id": "98ba8f4a-3f48-439e-a03d-122df62babaf",
   "metadata": {},
   "source": [
    "------> Inheritance"
   ]
  },
  {
   "cell_type": "markdown",
   "id": "83e9ecdf-53f8-4f0c-aa7a-c90844d22cf5",
   "metadata": {},
   "source": [
    "------> Abstraction"
   ]
  },
  {
   "cell_type": "markdown",
   "id": "bb29e715-cc85-419e-b1cf-22917b08f5db",
   "metadata": {},
   "source": [
    "# Question.3)"
   ]
  },
  {
   "cell_type": "markdown",
   "id": "b01d8a64-5548-4b0d-b98b-1c8b0db7d074",
   "metadata": {},
   "source": [
    "***Explain why the __init__() function is used. Give a suitable example.***"
   ]
  },
  {
   "cell_type": "markdown",
   "id": "7b29977b-78a8-4560-a81c-09cd54f5a6f8",
   "metadata": {},
   "source": [
    "**Ans.)** The __init__() method lets the class initialize the object's attributes and serves no other purpose."
   ]
  },
  {
   "cell_type": "code",
   "execution_count": 4,
   "id": "46ffbfbf-4f03-42dd-a8bb-7ccb8d6bbda0",
   "metadata": {},
   "outputs": [],
   "source": [
    "# for example :-\n",
    "\n",
    "\n",
    "class insT2t_data :\n",
    "    \n",
    "    def __init__(insT2t, student_name, student_class, student_fees) :\n",
    "        insT2t.student_name = student_name\n",
    "        insT2t.student_class = student_class\n",
    "        insT2t.student_fees = student_fees\n",
    "        \n",
    "    def return_student_data(insT2t) :\n",
    "        return insT2t.student_name, insT2t.student_class, insT2t.student_fees\n",
    "    "
   ]
  },
  {
   "cell_type": "code",
   "execution_count": 5,
   "id": "7cd9cab2-c61c-4f28-bc96-423689fd0c94",
   "metadata": {},
   "outputs": [],
   "source": [
    "alok = insT2t_data(\"Alok Mishra\", \"Data Sscience Masters\", 3200)"
   ]
  },
  {
   "cell_type": "code",
   "execution_count": 6,
   "id": "6b972441-2ec2-43bb-b6e1-b61d93a475cb",
   "metadata": {},
   "outputs": [
    {
     "data": {
      "text/plain": [
       "('Alok Mishra', 'Data Sscience Masters', 3200)"
      ]
     },
     "execution_count": 6,
     "metadata": {},
     "output_type": "execute_result"
    }
   ],
   "source": [
    "alok.return_student_data()"
   ]
  },
  {
   "cell_type": "markdown",
   "id": "9dc199fc-56f3-4108-bcc5-954504cf8cc2",
   "metadata": {},
   "source": [
    "# Question.4)"
   ]
  },
  {
   "cell_type": "markdown",
   "id": "58d267d0-575c-49d1-8724-36f6c1ee22b6",
   "metadata": {},
   "source": [
    "***Why self is used in OOPs?***"
   ]
  },
  {
   "cell_type": "markdown",
   "id": "13467c12-ff6a-422f-8981-25ae7007e16f",
   "metadata": {},
   "source": [
    "**Ans.)** The self variable is used to represent the instance of the class which is often used in OOPs. It works as a reference to the object."
   ]
  },
  {
   "cell_type": "markdown",
   "id": "82104f8c-394d-452b-a197-e21de0b27c8f",
   "metadata": {},
   "source": [
    "# Question.5)"
   ]
  },
  {
   "cell_type": "markdown",
   "id": "d6861c8c-bb84-4dd7-a0d2-098799108900",
   "metadata": {},
   "source": [
    "***What is inheritance? Give an example for each type of inheritance.***"
   ]
  },
  {
   "cell_type": "markdown",
   "id": "08060a07-5176-4e39-ba2c-7b83b91e4a70",
   "metadata": {},
   "source": [
    "**Ans.)** Inheritance is one of the 4 pillars of OOPs concept, in this we extract \"parent class\" using \"child class\", because properties of \"parent class\" inherited to it's \"child class\"."
   ]
  },
  {
   "cell_type": "code",
   "execution_count": 7,
   "id": "a27dcbe4-791b-460e-bda0-be8366e52d2d",
   "metadata": {},
   "outputs": [],
   "source": [
    "class step :\n",
    "    \n",
    "    def parent_class(self) :\n",
    "        return \"I am parent and I will called by my child\"\n",
    "    "
   ]
  },
  {
   "cell_type": "code",
   "execution_count": 8,
   "id": "b2517300-ead6-4ff1-a261-8571268ea95f",
   "metadata": {},
   "outputs": [],
   "source": [
    "class child_step(step) :\n",
    "    pass"
   ]
  },
  {
   "cell_type": "code",
   "execution_count": 10,
   "id": "97d39871-10d0-49de-b4e4-a0de66ab71a4",
   "metadata": {},
   "outputs": [],
   "source": [
    "obj_child_step = child_step()"
   ]
  },
  {
   "cell_type": "code",
   "execution_count": 12,
   "id": "83fc37be-586e-4afd-9d2a-2b599365bb16",
   "metadata": {},
   "outputs": [
    {
     "data": {
      "text/plain": [
       "'I am parent and I will called by my child'"
      ]
     },
     "execution_count": 12,
     "metadata": {},
     "output_type": "execute_result"
    }
   ],
   "source": [
    "obj_child_step.parent_class()"
   ]
  },
  {
   "cell_type": "code",
   "execution_count": null,
   "id": "1064b118-97d3-4bda-8a04-6036cd7b1899",
   "metadata": {},
   "outputs": [],
   "source": []
  }
 ],
 "metadata": {
  "kernelspec": {
   "display_name": "Python 3 (ipykernel)",
   "language": "python",
   "name": "python3"
  },
  "language_info": {
   "codemirror_mode": {
    "name": "ipython",
    "version": 3
   },
   "file_extension": ".py",
   "mimetype": "text/x-python",
   "name": "python",
   "nbconvert_exporter": "python",
   "pygments_lexer": "ipython3",
   "version": "3.10.8"
  }
 },
 "nbformat": 4,
 "nbformat_minor": 5
}
