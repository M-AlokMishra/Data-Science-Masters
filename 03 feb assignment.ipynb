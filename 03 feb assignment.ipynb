{
 "cells": [
  {
   "cell_type": "markdown",
   "id": "8137c399-36a4-4009-950b-78db52e319d4",
   "metadata": {
    "tags": []
   },
   "source": [
    "# Question.1)"
   ]
  },
  {
   "cell_type": "markdown",
   "id": "82f85986-130a-4596-84c2-306c65770cfc",
   "metadata": {},
   "source": [
    "***Which keyword is used to create a function? Create a function to return a list of odd numbers in the range of 1 to 25.***"
   ]
  },
  {
   "cell_type": "markdown",
   "id": "5e62caec-ccae-4e93-8d8f-f0d01d2876a9",
   "metadata": {},
   "source": [
    "**Ans.)**"
   ]
  },
  {
   "cell_type": "code",
   "execution_count": 19,
   "id": "f39a9c26-05c8-4f35-988b-42fc8b4fedcd",
   "metadata": {},
   "outputs": [
    {
     "name": "stdout",
     "output_type": "stream",
     "text": [
      "1\n",
      "3\n",
      "5\n",
      "7\n",
      "9\n",
      "11\n",
      "13\n",
      "15\n",
      "17\n",
      "19\n",
      "21\n",
      "23\n",
      "25\n"
     ]
    }
   ],
   "source": [
    "# def keyword is used to create a function.\n",
    "\n",
    "def odd(num):\n",
    "    l = []\n",
    "    for num in range(1,num+1):\n",
    "        if num%2!=0:\n",
    "            print(num)\n",
    "            \n",
    "odd(25)"
   ]
  },
  {
   "cell_type": "markdown",
   "id": "c1915407-cec2-4956-b10b-bd8544b9ec5a",
   "metadata": {
    "tags": []
   },
   "source": [
    "# Question.2)"
   ]
  },
  {
   "cell_type": "markdown",
   "id": "e7772e33-5133-4442-bbdb-793225589bbd",
   "metadata": {},
   "source": [
    "Why *args and **kwargs is used in some functions? Create a function each for *args and **kwargs to demonstrate their use."
   ]
  },
  {
   "cell_type": "markdown",
   "id": "860c29f3-5ac2-4cad-baf0-76d8832c28fd",
   "metadata": {},
   "source": [
    "**Ans.)**"
   ]
  },
  {
   "cell_type": "code",
   "execution_count": 28,
   "id": "3995443f-7091-4fcd-86aa-e29e3e96f404",
   "metadata": {},
   "outputs": [
    {
     "data": {
      "text/plain": [
       "(1, 2, 3, 4, 5, 'alok', 7, 8, 9, 10)"
      ]
     },
     "execution_count": 28,
     "metadata": {},
     "output_type": "execute_result"
    }
   ],
   "source": [
    "# *args is used for getting multiple inputs from users in function\n",
    "\n",
    "def fnsn1(*args):\n",
    "    return args\n",
    "\n",
    "fnsn1(1, 2, 3, 4, 5, \"alok\", 7, 8, 9, 10)"
   ]
  },
  {
   "cell_type": "code",
   "execution_count": 29,
   "id": "e0216e2f-80bb-47f7-ba0f-b710f8f3772b",
   "metadata": {},
   "outputs": [
    {
     "data": {
      "text/plain": [
       "{'key1': 1, 'key2': 2, 'key3': 'mishra'}"
      ]
     },
     "execution_count": 29,
     "metadata": {},
     "output_type": "execute_result"
    }
   ],
   "source": [
    "# **kwargs is used for getting multiple key-Value pairs of dict inputs from users in function\n",
    "\n",
    "def fnsn2(**kwargs):\n",
    "    return kwargs\n",
    "\n",
    "fnsn2( key1 = 1, key2 = 2, key3 = \"mishra\")"
   ]
  },
  {
   "cell_type": "markdown",
   "id": "a7aefe3c-3889-4875-85f3-771a6788d4eb",
   "metadata": {
    "tags": []
   },
   "source": [
    "# Question.3)"
   ]
  },
  {
   "cell_type": "markdown",
   "id": "aab341c1-addc-41aa-be02-96ee4ee1e53e",
   "metadata": {},
   "source": [
    "***What is an iterator in python? Name the method used to initialise the iterator object and the method used for iteration. Use these methods to print the first five elements of the given list [2, 4, 6, 8, 10, 12, 14, 16, 18, 20].***"
   ]
  },
  {
   "cell_type": "markdown",
   "id": "d855afd5-2cfa-4227-a3e8-b7e9b8c83c8e",
   "metadata": {},
   "source": [
    "**Ans.)**"
   ]
  },
  {
   "cell_type": "code",
   "execution_count": 30,
   "id": "e0f718c2-5abc-4b68-885b-9ea4775432b5",
   "metadata": {},
   "outputs": [
    {
     "name": "stdout",
     "output_type": "stream",
     "text": [
      "2\n",
      "4\n",
      "6\n",
      "8\n",
      "10\n"
     ]
    }
   ],
   "source": [
    "# An iterator is an object that contains a countable number of values, which implements the iterator protocol, which consist of the methods iter() and next().\n",
    "\n",
    "l = [2, 4, 6, 8, 10, 12, 14, 16,18, 20]\n",
    "iteration_start = iter(l)\n",
    "for i in range(5):\n",
    "    print(next(iteration_start))"
   ]
  },
  {
   "cell_type": "markdown",
   "id": "5b5541d8-e6ad-42cf-a723-79a61e85f70b",
   "metadata": {
    "tags": []
   },
   "source": [
    "# Question.4)"
   ]
  },
  {
   "cell_type": "markdown",
   "id": "f71f3608-ed3c-4497-a2dd-7785c1bd5cc0",
   "metadata": {},
   "source": [
    "***What is a generator function in python? Why yield keyword is used? Give an example of a generator function.***"
   ]
  },
  {
   "cell_type": "markdown",
   "id": "e46a65d3-5c32-42f9-87c7-504ed270d36f",
   "metadata": {},
   "source": [
    "**Ans.)**"
   ]
  },
  {
   "cell_type": "code",
   "execution_count": 13,
   "id": "4999ad9b-1310-40b2-8386-9139a6df297b",
   "metadata": {},
   "outputs": [
    {
     "name": "stdout",
     "output_type": "stream",
     "text": [
      "1\n",
      "2\n",
      "3\n",
      "4\n",
      "5\n"
     ]
    }
   ],
   "source": [
    "'''\n",
    "A generator-function is defined like a normal function, \n",
    "but whenever it needs to generate a value, it does so with the yield keyword rather than return. \n",
    "If the body of a def contains yield, the function automatically becomes a generator function. \n",
    "'''\n",
    "\n",
    "\n",
    "# whenever Generator function needs to generate a value, it does so with the help of yield keyword. For example :-\n",
    "\n",
    "def count_test(n) :\n",
    "    count = 1\n",
    "    while count <= n :\n",
    "        yield count\n",
    "        count = count + 1\n",
    "        \n",
    "c = count_test(5)\n",
    "\n",
    "for i in c :\n",
    "    print(i)"
   ]
  },
  {
   "cell_type": "markdown",
   "id": "e2073ec6-6cab-42a4-a1ca-4eccdd153c19",
   "metadata": {
    "tags": []
   },
   "source": [
    "# Question.5)"
   ]
  },
  {
   "cell_type": "markdown",
   "id": "a8d1e991-a531-4cad-9eb8-4e394d1fa5a2",
   "metadata": {},
   "source": [
    "***Create a generator function for prime numbers less than 1000. Use the next() method to print the first 20 prime numbers.***"
   ]
  },
  {
   "cell_type": "markdown",
   "id": "10e9cd57-6d92-4b2e-a5aa-e11a9947c490",
   "metadata": {},
   "source": [
    "**Ans.)**"
   ]
  },
  {
   "cell_type": "code",
   "execution_count": 31,
   "id": "d450a89b-cf2f-4c18-ad9f-26ce435c454c",
   "metadata": {},
   "outputs": [],
   "source": [
    "def prime_num():\n",
    "    n=2\n",
    "    while n < 1000:\n",
    "        for i in range(2,n):\n",
    "            if n%i == 0:\n",
    "                break\n",
    "        else:\n",
    "            yield n\n",
    "        n += 1"
   ]
  },
  {
   "cell_type": "code",
   "execution_count": 32,
   "id": "dd4486ba-566b-47b9-beb7-fd9616ccae7a",
   "metadata": {},
   "outputs": [
    {
     "name": "stdout",
     "output_type": "stream",
     "text": [
      "2\n",
      "3\n",
      "5\n",
      "7\n",
      "11\n",
      "13\n",
      "17\n",
      "19\n",
      "23\n",
      "29\n",
      "31\n",
      "37\n",
      "41\n",
      "43\n",
      "47\n",
      "53\n",
      "59\n",
      "61\n",
      "67\n",
      "71\n"
     ]
    }
   ],
   "source": [
    "iteration = prime_num()\n",
    "for i in range(20):\n",
    "    print(next(iteration))"
   ]
  },
  {
   "cell_type": "markdown",
   "id": "b5813a19-73ba-4411-a463-8c07018b7d6f",
   "metadata": {
    "tags": []
   },
   "source": [
    "# Question.6)"
   ]
  },
  {
   "cell_type": "markdown",
   "id": "a8b80bfe-0b45-474a-a3b1-1ea4c7cef3a1",
   "metadata": {},
   "source": [
    "***Write a python program to print the first 10 Fibonacci numbers using a while loop.***"
   ]
  },
  {
   "cell_type": "markdown",
   "id": "8483c72f-7f9f-4b33-b14f-0932695c807c",
   "metadata": {},
   "source": [
    "**Ans.)**"
   ]
  },
  {
   "cell_type": "code",
   "execution_count": 14,
   "id": "c9ce6c84-07bb-40fc-b85a-33c084d72c93",
   "metadata": {},
   "outputs": [],
   "source": [
    "def fib_num() :\n",
    "    a, b =0,1\n",
    "    while (True) :\n",
    "        yield a\n",
    "        a, b =b, a+b"
   ]
  },
  {
   "cell_type": "code",
   "execution_count": 15,
   "id": "dd68318a-8595-4588-aa4e-81abe5784210",
   "metadata": {},
   "outputs": [
    {
     "name": "stdout",
     "output_type": "stream",
     "text": [
      "0\n",
      "1\n",
      "1\n",
      "2\n",
      "3\n",
      "5\n",
      "8\n",
      "13\n",
      "21\n",
      "34\n"
     ]
    }
   ],
   "source": [
    "fib = fib_num()\n",
    "\n",
    "for i in range(10) :\n",
    "    print(next(fib))"
   ]
  },
  {
   "cell_type": "markdown",
   "id": "87f070ec-1805-4410-b102-25751fc4499e",
   "metadata": {
    "tags": []
   },
   "source": [
    "# Question.7)"
   ]
  },
  {
   "cell_type": "markdown",
   "id": "87f86fcc-6255-45a1-8c84-20dfbb06a61e",
   "metadata": {},
   "source": [
    "***Write a List Comprehension to iterate through the given string: ‘pwskills’.***"
   ]
  },
  {
   "cell_type": "markdown",
   "id": "435ba302-498a-437c-a18e-1274d93d9106",
   "metadata": {},
   "source": [
    "***--->  Expected output: ['p', 'w', 's', 'k', 'i', 'l', 'l', 's']***"
   ]
  },
  {
   "cell_type": "markdown",
   "id": "863bf4ec-2df6-4396-80c6-cb0abae4a474",
   "metadata": {},
   "source": [
    "**Ans.)**"
   ]
  },
  {
   "cell_type": "code",
   "execution_count": null,
   "id": "7dec2c6b-9229-4b4e-853f-2af750353ca5",
   "metadata": {},
   "outputs": [],
   "source": [
    "print()"
   ]
  },
  {
   "cell_type": "markdown",
   "id": "efab2906-21c0-43ab-b4fc-b5607ede3cd9",
   "metadata": {
    "tags": []
   },
   "source": [
    "# Question.8)"
   ]
  },
  {
   "cell_type": "markdown",
   "id": "70649ef6-ed0d-4c13-b310-a8ad653cb1e8",
   "metadata": {},
   "source": [
    "***Write a python program to check whether a given number is Palindrome or not using a while loop.***"
   ]
  },
  {
   "cell_type": "markdown",
   "id": "c61001bd-ddea-4184-a532-fb1615cb762f",
   "metadata": {},
   "source": [
    "**Ans.)**"
   ]
  },
  {
   "cell_type": "code",
   "execution_count": 16,
   "id": "2cbdcb17-74b4-43a1-ac66-0c51f8b28358",
   "metadata": {},
   "outputs": [
    {
     "name": "stdin",
     "output_type": "stream",
     "text": [
      "Enter any number: 1441\n"
     ]
    },
    {
     "name": "stdout",
     "output_type": "stream",
     "text": [
      "1441 is a Palindrome!\n"
     ]
    }
   ],
   "source": [
    "num=int(input(\"Enter any number:\"))\n",
    "temp=num\n",
    "rev=0\n",
    "while(num>0):\n",
    "    dig=num%10\n",
    "    rev=rev*10+dig\n",
    "    num=num//10\n",
    "if(temp==rev):\n",
    "    print(\"{0} is a Palindrome!\".format(temp))\n",
    "else:\n",
    "    print(\"{0} is Not a Palindrome!\".format(temp))"
   ]
  },
  {
   "cell_type": "markdown",
   "id": "f7dee2fe-bde5-499b-ae60-ff2bb47996c1",
   "metadata": {
    "tags": []
   },
   "source": [
    "# Question.9)"
   ]
  },
  {
   "cell_type": "markdown",
   "id": "547eec3d-8d5c-4ade-a95f-f7e144711154",
   "metadata": {},
   "source": [
    "***Write a code to print odd numbers from 1 to 100 using list comprehension.***"
   ]
  },
  {
   "cell_type": "markdown",
   "id": "dbb7ecab-93c9-43e4-adf6-ec42acfd4175",
   "metadata": {},
   "source": [
    "**Ans.)**"
   ]
  },
  {
   "cell_type": "code",
   "execution_count": 17,
   "id": "cc2084fd-c260-4eb6-ba17-6a23610194f4",
   "metadata": {},
   "outputs": [
    {
     "data": {
      "text/plain": [
       "[1,\n",
       " 3,\n",
       " 5,\n",
       " 7,\n",
       " 9,\n",
       " 11,\n",
       " 13,\n",
       " 15,\n",
       " 17,\n",
       " 19,\n",
       " 21,\n",
       " 23,\n",
       " 25,\n",
       " 27,\n",
       " 29,\n",
       " 31,\n",
       " 33,\n",
       " 35,\n",
       " 37,\n",
       " 39,\n",
       " 41,\n",
       " 43,\n",
       " 45,\n",
       " 47,\n",
       " 49,\n",
       " 51,\n",
       " 53,\n",
       " 55,\n",
       " 57,\n",
       " 59,\n",
       " 61,\n",
       " 63,\n",
       " 65,\n",
       " 67,\n",
       " 69,\n",
       " 71,\n",
       " 73,\n",
       " 75,\n",
       " 77,\n",
       " 79,\n",
       " 81,\n",
       " 83,\n",
       " 85,\n",
       " 87,\n",
       " 89,\n",
       " 91,\n",
       " 93,\n",
       " 95,\n",
       " 97,\n",
       " 99]"
      ]
     },
     "execution_count": 17,
     "metadata": {},
     "output_type": "execute_result"
    }
   ],
   "source": [
    "[i for i in range(1,100) if i%2!=0]"
   ]
  }
 ],
 "metadata": {
  "kernelspec": {
   "display_name": "Python 3 (ipykernel)",
   "language": "python",
   "name": "python3"
  },
  "language_info": {
   "codemirror_mode": {
    "name": "ipython",
    "version": 3
   },
   "file_extension": ".py",
   "mimetype": "text/x-python",
   "name": "python",
   "nbconvert_exporter": "python",
   "pygments_lexer": "ipython3",
   "version": "3.10.8"
  }
 },
 "nbformat": 4,
 "nbformat_minor": 5
}
