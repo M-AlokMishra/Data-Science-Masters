{
 "cells": [
  {
   "cell_type": "code",
   "execution_count": 1,
   "id": "9ca63a8f-0eb9-4ec1-b5da-5f0ba2c25938",
   "metadata": {},
   "outputs": [
    {
     "name": "stdin",
     "output_type": "stream",
     "text": [
      "Enter your Percentage :-  92\n"
     ]
    },
    {
     "name": "stdout",
     "output_type": "stream",
     "text": [
      "A Grade\n"
     ]
    }
   ],
   "source": [
    "'''\n",
    "Ques.1) Write a program to accept percentage from the user and display the grade according to the following criteria :- \n",
    "\n",
    "        Marks                 Grade\n",
    "        \n",
    "        >90                     A\n",
    "        >80 and <=90            B\n",
    "        >=60 and <=80           C\n",
    "        below 60                D\n",
    "        \n",
    "'''\n",
    "\n",
    "\n",
    "# Ans.) \n",
    "\n",
    "percentage = int(input(\"Enter your Percentage :- \"))\n",
    "\n",
    "if percentage > 90 :\n",
    "    print(\"A Grade\")\n",
    "elif percentage >80 and percentage <= 90 :\n",
    "    print(\"B Grade\")\n",
    "elif percentage >=60 and percentage <=80 :\n",
    "    print(\"C Grade\")\n",
    "elif percentage < 60 :\n",
    "    print(\"D Grade\")"
   ]
  },
  {
   "cell_type": "code",
   "execution_count": 2,
   "id": "9ae6ce8a-3729-4b27-b643-3c985d0772cf",
   "metadata": {},
   "outputs": [
    {
     "name": "stdin",
     "output_type": "stream",
     "text": [
      "Enter Cost price of bike :-  1000000\n"
     ]
    },
    {
     "name": "stdout",
     "output_type": "stream",
     "text": [
      "Tax :-  150000.0\n"
     ]
    }
   ],
   "source": [
    "'''\n",
    "Ques.2) Write a program to accept the cost price of a bike and display the road tax to be paid according to the following criteria :-\n",
    "        \n",
    "        Tax            Cost Price(in Rs)\n",
    "        \n",
    "        15%             >100000\n",
    "        10%             >50000 and <=100000\n",
    "        5%              <=50000\n",
    "\n",
    "'''\n",
    "\n",
    "\n",
    "# Ans.)\n",
    "\n",
    "CP = int(input(\"Enter Cost price of bike :- \"))\n",
    "\n",
    "if CP > 100000 :\n",
    "    print(\"Tax :- \", (CP*15)/100)\n",
    "elif CP >50000 and CP <=100000 :\n",
    "    print(\"Tax :- \", (CP*10)/100)\n",
    "elif CP <=50000 :\n",
    "    print(\"Tax :- \", (CP*5)/100)"
   ]
  },
  {
   "cell_type": "code",
   "execution_count": 3,
   "id": "c7b91fce-b68e-4f45-9f42-336224655f60",
   "metadata": {},
   "outputs": [
    {
     "name": "stdin",
     "output_type": "stream",
     "text": [
      "Enter City :-  Delhi\n"
     ]
    },
    {
     "name": "stdout",
     "output_type": "stream",
     "text": [
      "Red Fort\n"
     ]
    }
   ],
   "source": [
    "'''\n",
    "Ques.3) Accept any city from the user and display monuments of that ciity :-\n",
    "        \n",
    "        City           Monument\n",
    "        \n",
    "        Delhi          Red Fort\n",
    "        Agra           Taj Mahal\n",
    "        Jaipur         Jai Mahal\n",
    "\n",
    "'''\n",
    "\n",
    "\n",
    "# Ans.) \n",
    "\n",
    "City = str(input(\"Enter City :- \"))\n",
    "\n",
    "if City == \"Delhi\" :\n",
    "    print(\"Red Fort\")\n",
    "elif City == \"Agra\" :\n",
    "    print(\"Taj Mahal\")\n",
    "elif City == \"Jaipur\" :\n",
    "    print(\"Jai Mahal\")"
   ]
  },
  {
   "cell_type": "markdown",
   "id": "4150d460-f4b6-42dc-a810-29693afbee49",
   "metadata": {},
   "source": [
    "# Question.4)"
   ]
  },
  {
   "cell_type": "markdown",
   "id": "063c9804-6ead-4647-b73c-723e07787c1c",
   "metadata": {},
   "source": [
    "***Check how many times a number can devided by 3 before it is less than or equal to 10 ?***"
   ]
  },
  {
   "cell_type": "code",
   "execution_count": null,
   "id": "9935905a-9eb7-4d7d-8685-6a45f9486a51",
   "metadata": {},
   "outputs": [],
   "source": [
    "# Ans.)\n",
    "\n",
    "num = int(input(\"Enter a number :- \"))\n",
    "count = 0\n",
    "while (True) :\n",
    "    num = num/3\n",
    "    count = count + 1\n",
    "    if num <= 10 :\n",
    "        break\n",
    "print(count)"
   ]
  },
  {
   "cell_type": "markdown",
   "id": "a420a37c-cac8-42d3-b48a-531190ecdd2f",
   "metadata": {},
   "source": [
    "# Question.5)"
   ]
  },
  {
   "cell_type": "markdown",
   "id": "62a13983-c56c-4f53-83cc-ebab30ced7a8",
   "metadata": {},
   "source": [
    "***Why and When to use While loop in python give a detailed description with example ?***"
   ]
  },
  {
   "cell_type": "code",
   "execution_count": null,
   "id": "561e7c02-80fe-4484-bbd4-20ea4df69c8b",
   "metadata": {},
   "outputs": [],
   "source": [
    "# Ans.)\n",
    "\n",
    "'''\n",
    "Python while loop is used to run a block code until a certain condition is met.\n",
    "Here, A while loop evaluates the condition. \n",
    "If the condition evaluates to True , the code inside the while loop is executed.\n",
    "'''\n",
    "\n",
    "# For Example :-\n",
    "\n",
    "a = 1\n",
    "while a <= 10:\n",
    "    print(a)\n",
    "    a = a + 1"
   ]
  },
  {
   "cell_type": "markdown",
   "id": "3aa34bab-3ca3-4b63-b6ef-faa916f99758",
   "metadata": {},
   "source": [
    "# Question.6)"
   ]
  },
  {
   "cell_type": "markdown",
   "id": "985c71c3-2d42-4d5a-99dc-eeb4ece8544c",
   "metadata": {},
   "source": [
    "***Use nested while loop to print 3 different patterns ?***"
   ]
  },
  {
   "cell_type": "code",
   "execution_count": null,
   "id": "2e67723d-e260-486b-acea-b306155dd457",
   "metadata": {},
   "outputs": [],
   "source": [
    "# Ans.)\n",
    "\n",
    "# 1st Pattern ------------------>\n",
    "\n",
    "num = int(input(\"Enter number :- \"))\n",
    "row = 1\n",
    "\n",
    "print(\"1st pattern \\n\")\n",
    "\n",
    "while (row <= num) :\n",
    "    col = 1\n",
    "    while (col <= row) :\n",
    "        print('*', end = ' ')\n",
    "        col = col + 1\n",
    "    print(\" \")\n",
    "    row = row + 1"
   ]
  },
  {
   "cell_type": "code",
   "execution_count": null,
   "id": "ac6a9052-f255-4177-a4cb-32faa17259e5",
   "metadata": {},
   "outputs": [],
   "source": [
    "# 2nd Pattern ------------------>\n",
    "\n",
    "num = int(input(\"Enter number :- \"))\n",
    "row = 1\n",
    " \n",
    "print(\"2nd Pattern \\n\")\n",
    "\n",
    "while (row <= num) :\n",
    "    col = num\n",
    "    while (col >= row) :\n",
    "        print('*', end = ' ')\n",
    "        col = col - 1\n",
    "    print()\n",
    "    row = row + 1"
   ]
  },
  {
   "cell_type": "code",
   "execution_count": null,
   "id": "0f459dc3-95c7-4b62-adee-f62fd6f75c45",
   "metadata": {},
   "outputs": [],
   "source": [
    "# 3rd Pattern ----------------->\n",
    "\n",
    "num = int(input(\"Enter number :- \"))\n",
    "row = 1\n",
    "\n",
    "print(\"1st pattern \\n\")\n",
    "\n",
    "while (row <= num) :\n",
    "    col = 1\n",
    "    while (col <= num) :\n",
    "        print('*', end = ' ')\n",
    "        col = col + 1\n",
    "    print(\" \")\n",
    "    row = row + 1"
   ]
  },
  {
   "cell_type": "markdown",
   "id": "c195cb82-42e4-4ea3-9423-9a7708873369",
   "metadata": {},
   "source": [
    "# Question.7)"
   ]
  },
  {
   "cell_type": "markdown",
   "id": "2c007d42-1f7e-4723-9716-5284ba4b62e5",
   "metadata": {},
   "source": [
    "***Reverse a while loop to display numbers from 10 to 1 ?***"
   ]
  },
  {
   "cell_type": "code",
   "execution_count": null,
   "id": "95b44afb-e8ff-461f-b5dd-35b5c6d03bf4",
   "metadata": {},
   "outputs": [],
   "source": [
    "# Ans.)\n",
    "\n",
    "num = 10\n",
    "\n",
    "while num >= 1:\n",
    "    print(num)\n",
    "    num = num - 1"
   ]
  },
  {
   "cell_type": "markdown",
   "id": "73fc7b4f-3bab-4923-b45b-1ea091eef27c",
   "metadata": {},
   "source": [
    "# Question.8)"
   ]
  },
  {
   "cell_type": "markdown",
   "id": "ac61890f-c2b8-48ed-bfee-13402ef7d62d",
   "metadata": {},
   "source": [
    "***Reverse a while loop to display numbers from 10 to 1 ?***"
   ]
  },
  {
   "cell_type": "code",
   "execution_count": null,
   "id": "5fed9942-f154-404f-ae71-f9a88a30a6e8",
   "metadata": {},
   "outputs": [],
   "source": [
    "# Ans.)\n",
    "\n",
    "num = 10\n",
    "\n",
    "while num >= 1:\n",
    "    print(num)\n",
    "    num = num - 1"
   ]
  }
 ],
 "metadata": {
  "kernelspec": {
   "display_name": "Python 3 (ipykernel)",
   "language": "python",
   "name": "python3"
  },
  "language_info": {
   "codemirror_mode": {
    "name": "ipython",
    "version": 3
   },
   "file_extension": ".py",
   "mimetype": "text/x-python",
   "name": "python",
   "nbconvert_exporter": "python",
   "pygments_lexer": "ipython3",
   "version": "3.10.8"
  }
 },
 "nbformat": 4,
 "nbformat_minor": 5
}
