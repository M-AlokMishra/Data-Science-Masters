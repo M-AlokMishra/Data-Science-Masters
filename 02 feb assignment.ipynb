{
 "cells": [
  {
   "cell_type": "markdown",
   "id": "c4400b17-fcb9-415c-b9b4-5102b6efe381",
   "metadata": {},
   "source": [
    "# Question.1) "
   ]
  },
  {
   "cell_type": "markdown",
   "id": "c9de90f8-e308-4483-a1eb-ab66b8498f63",
   "metadata": {},
   "source": [
    "***Explain with an example each when to use a for loop and a while loop?***"
   ]
  },
  {
   "cell_type": "markdown",
   "id": "10a5369c-166e-41c9-bb27-39460395afc0",
   "metadata": {},
   "source": [
    "**Ans.)**"
   ]
  },
  {
   "cell_type": "code",
   "execution_count": 1,
   "id": "9ed42c52-7203-4d50-92cf-521480a02abc",
   "metadata": {},
   "outputs": [
    {
     "name": "stdout",
     "output_type": "stream",
     "text": [
      "0\n",
      "1\n",
      "2\n",
      "3\n",
      "4\n"
     ]
    }
   ],
   "source": [
    "# for loop : Iterate a predefined number of times. This is also known as a definite iteration. \n",
    "\n",
    "# This will print only that numbers that much pre defined in range\n",
    "for i in range(5) :\n",
    "    print(i)"
   ]
  },
  {
   "cell_type": "code",
   "execution_count": 2,
   "id": "5999b1f5-3aa1-4a08-a76e-61a6a9df02ad",
   "metadata": {},
   "outputs": [
    {
     "name": "stdin",
     "output_type": "stream",
     "text": [
      "Enter num :-  10\n"
     ]
    },
    {
     "name": "stdout",
     "output_type": "stream",
     "text": [
      "1\n",
      "2\n",
      "3\n",
      "4\n",
      "5\n",
      "6\n",
      "7\n",
      "8\n",
      "9\n",
      "10\n"
     ]
    }
   ],
   "source": [
    "# while loop : Keep on iterating until the condition is false. This is known as an indefinite iteration.\n",
    "\n",
    "num = int(input(\"Enter num :- \"))\n",
    "counter = 1\n",
    "\n",
    "# This will print all that numbers until the condition is false.\n",
    "while ( counter <= num ) :\n",
    "    print(counter)\n",
    "    counter = counter + 1"
   ]
  },
  {
   "cell_type": "markdown",
   "id": "d5e06d12-7e86-4cee-a8d4-ff9abb3c654f",
   "metadata": {},
   "source": [
    "# Question.2) "
   ]
  },
  {
   "cell_type": "markdown",
   "id": "3e012af4-5f2d-4ff1-9a11-608c8a4528fb",
   "metadata": {},
   "source": [
    "***Write a python program to print the sum and the product of the first 10 natural numbers using for and while loop?***"
   ]
  },
  {
   "cell_type": "markdown",
   "id": "74740e63-88b0-4060-958f-91f5dd98943e",
   "metadata": {},
   "source": [
    "**Ans.)**"
   ]
  },
  {
   "cell_type": "code",
   "execution_count": 3,
   "id": "999ec17a-b6e4-44fc-b78c-b19de43f0afd",
   "metadata": {
    "tags": []
   },
   "outputs": [
    {
     "name": "stdout",
     "output_type": "stream",
     "text": [
      "\n",
      "Sum of first 10 natural numbers using for loop\n",
      "\n"
     ]
    },
    {
     "name": "stdin",
     "output_type": "stream",
     "text": [
      "Enter number :-  10\n"
     ]
    },
    {
     "data": {
      "text/plain": [
       "55"
      ]
     },
     "execution_count": 3,
     "metadata": {},
     "output_type": "execute_result"
    }
   ],
   "source": [
    "# Sum of first 10 natural numbers using for loop\n",
    "\n",
    "print(\"\\nSum of first 10 natural numbers using for loop\\n\")\n",
    "num = int(input(\"Enter number :- \"))\n",
    "sum = 0\n",
    "for i in range(1,num+1,1) :\n",
    "    sum = sum + i\n",
    "sum"
   ]
  },
  {
   "cell_type": "code",
   "execution_count": 4,
   "id": "6a0e8a84-ddd6-4c8f-8f9c-1ca99f84c17d",
   "metadata": {},
   "outputs": [
    {
     "name": "stdout",
     "output_type": "stream",
     "text": [
      "\n",
      "Product of first 10 natural numbers using for loop \n",
      "\n"
     ]
    },
    {
     "name": "stdin",
     "output_type": "stream",
     "text": [
      "Enter number :-  10\n"
     ]
    },
    {
     "data": {
      "text/plain": [
       "3628800"
      ]
     },
     "execution_count": 4,
     "metadata": {},
     "output_type": "execute_result"
    }
   ],
   "source": [
    "# Product of first 10 natural numbers using for loop\n",
    "\n",
    "print(\"\\nProduct of first 10 natural numbers using for loop \\n\")\n",
    "num = int(input(\"Enter number :- \"))\n",
    "product = 1\n",
    "for i in range(1,num+1,1) :\n",
    "    product = product * int(i)\n",
    "product"
   ]
  },
  {
   "cell_type": "code",
   "execution_count": 5,
   "id": "c116772e-0ab0-4564-a7a4-68f52ba3cdb7",
   "metadata": {},
   "outputs": [
    {
     "name": "stdout",
     "output_type": "stream",
     "text": [
      "\n",
      "Sum of first 10 natural numbers using while loop \n",
      "\n"
     ]
    },
    {
     "name": "stdin",
     "output_type": "stream",
     "text": [
      "Enter number :-  10\n"
     ]
    },
    {
     "name": "stdout",
     "output_type": "stream",
     "text": [
      "55\n"
     ]
    }
   ],
   "source": [
    "# Sum of first 10 natural numbers using while loop\n",
    "\n",
    "print(\"\\nSum of first 10 natural numbers using while loop \\n\")\n",
    "num = int(input(\"Enter number :- \"))\n",
    "sum = 0\n",
    "counter = 1\n",
    "while (counter<=num) :\n",
    "    sum = sum + counter\n",
    "    counter = counter + 1\n",
    "print(sum)"
   ]
  },
  {
   "cell_type": "code",
   "execution_count": 6,
   "id": "cfcc0402-8a19-44fe-9bbe-5c9677f54605",
   "metadata": {},
   "outputs": [
    {
     "name": "stdout",
     "output_type": "stream",
     "text": [
      "\n",
      "Product of first 10 natural numbers using while loop \n",
      "\n"
     ]
    },
    {
     "name": "stdin",
     "output_type": "stream",
     "text": [
      "Enter number :-  10\n"
     ]
    },
    {
     "name": "stdout",
     "output_type": "stream",
     "text": [
      "3628800\n"
     ]
    }
   ],
   "source": [
    "# Product of first 10 natural numbers using while loop\n",
    "\n",
    "print(\"\\nProduct of first 10 natural numbers using while loop \\n\")\n",
    "num = int(input(\"Enter number :- \"))\n",
    "product = 1\n",
    "counter = 1\n",
    "while (counter<=num) :\n",
    "    product = product * counter\n",
    "    counter = counter + 1\n",
    "print(product)"
   ]
  },
  {
   "cell_type": "markdown",
   "id": "35f9e7e4-6a9c-426d-b1eb-bf7c243345e7",
   "metadata": {},
   "source": [
    "# Question.3)"
   ]
  },
  {
   "cell_type": "markdown",
   "id": "f499de60-27fe-4bda-80e0-c00e35b683a4",
   "metadata": {},
   "source": [
    "***Create a python program to compute the electricity bill for a household. The per-unit charges in rupees are as follows: For the first 100 units, the user will be charged Rs. 4.5 per unit, for the next 100 units, the user will be charged Rs. 6 per unit, and for the next 100 units, the user will be charged Rs. 10 per unit, After 300 units and above the user will be charged Rs. 20 per unit.***"
   ]
  },
  {
   "cell_type": "markdown",
   "id": "dfbd24cc-ec96-4b03-bb12-3541cda346f9",
   "metadata": {},
   "source": [
    "***You are required to take the units of electricity consumed in a month from the user as input.***"
   ]
  },
  {
   "cell_type": "markdown",
   "id": "c9b9bc73-145e-458a-be99-7e022f59d18b",
   "metadata": {},
   "source": [
    "***Your program must pass this test case :- when the unit of electricity consumed by the user in a month is 310, the total electricity bill should be 2250.***"
   ]
  },
  {
   "cell_type": "markdown",
   "id": "da6fb66c-c30f-4e4e-9be4-b68713fcbbd6",
   "metadata": {},
   "source": [
    "**Ans.)**"
   ]
  },
  {
   "cell_type": "code",
   "execution_count": 7,
   "id": "f1b19e7c-f73e-44f6-a300-de662dcb21bd",
   "metadata": {},
   "outputs": [
    {
     "name": "stdin",
     "output_type": "stream",
     "text": [
      "Enter the units of electricity consumed in a month :-  310\n"
     ]
    },
    {
     "name": "stdout",
     "output_type": "stream",
     "text": [
      "Electricity Charge is :-  2250.0\n"
     ]
    }
   ],
   "source": [
    "unit = int(input(\"Enter the units of electricity consumed in a month :- \"))\n",
    "\n",
    "if unit >=0 and unit <= 100 :\n",
    "    print(\"Electricity Charge is :- \", (unit * 4.5))\n",
    "    \n",
    "elif unit > 100 and unit <= 200 :\n",
    "    print(\"Electricity Charge is :- \", ( (100 * 4.5) + (unit-100)*6))\n",
    "    \n",
    "elif unit > 200 and unit <= 300 :\n",
    "    print(\"Electricity Charge is :- \", (100 * 4.5) + ((200-100)*6) + ((unit-200)*10))\n",
    "    \n",
    "elif unit > 300 :\n",
    "    print(\"Electricity Charge is :- \", (100 * 4.5) + ((200-100)*6) + ((300-200)*10) + ((unit-300) * 20))\n"
   ]
  },
  {
   "cell_type": "markdown",
   "id": "bb98d47f-858a-463b-b018-078b4e6ae44a",
   "metadata": {},
   "source": [
    "# Question.4)"
   ]
  },
  {
   "cell_type": "markdown",
   "id": "049d7a63-9493-44fa-9e08-8ad4c7b6489e",
   "metadata": {},
   "source": [
    "***Create a list of numbers from 1 to 100. Use for loop and while loop to calculate the cube of each number and if the cube of that number is divisible by 4 or 5 then append that number in a list and print that list***"
   ]
  },
  {
   "cell_type": "markdown",
   "id": "05510d41-8b5b-4972-8de1-7bc9bd42dc86",
   "metadata": {},
   "source": [
    "**Ans.)**"
   ]
  },
  {
   "cell_type": "code",
   "execution_count": 8,
   "id": "3aba23eb-cb70-4f39-b982-a65170184c5a",
   "metadata": {},
   "outputs": [
    {
     "name": "stdout",
     "output_type": "stream",
     "text": [
      "[2, 4, 5, 6, 8, 10, 12, 14, 15, 16, 18, 20, 22, 24, 25, 26, 28, 30, 32, 34, 35, 36, 38, 40, 42, 44, 45, 46, 48, 50, 52, 54, 55, 56, 58, 60, 62, 64, 65, 66, 68, 70, 72, 74, 75, 76, 78, 80, 82, 84, 85, 86, 88, 90, 92, 94, 95, 96, 98, 100]\n"
     ]
    }
   ],
   "source": [
    "# Using For Loop\n",
    "\n",
    "l = []\n",
    "\n",
    "for i in range(1,101,1) :\n",
    "    if (i**3%4 == 0) or (i**3%5 == 0) :\n",
    "        l.append(i)\n",
    "        \n",
    "print(l)"
   ]
  },
  {
   "cell_type": "code",
   "execution_count": 9,
   "id": "6b7240a7-db05-4710-a512-9d296f518762",
   "metadata": {},
   "outputs": [
    {
     "name": "stdin",
     "output_type": "stream",
     "text": [
      "Enter num :-  100\n"
     ]
    },
    {
     "name": "stdout",
     "output_type": "stream",
     "text": [
      "[2, 4, 5, 6, 8, 10, 12, 14, 15, 16, 18, 20, 22, 24, 25, 26, 28, 30, 32, 34, 35, 36, 38, 40, 42, 44, 45, 46, 48, 50, 52, 54, 55, 56, 58, 60, 62, 64, 65, 66, 68, 70, 72, 74, 75, 76, 78, 80, 82, 84, 85, 86, 88, 90, 92, 94, 95, 96, 98, 100]\n"
     ]
    }
   ],
   "source": [
    "# Using While Loop\n",
    "\n",
    "l = []\n",
    "\n",
    "num = int(input(\"Enter num :- \"))\n",
    "i = 1\n",
    "\n",
    "while ( i <= num ) :\n",
    "    if (i**3%4 == 0) or (i**3%5 == 0) :\n",
    "        l.append(i)\n",
    "    i = i + 1\n",
    "    \n",
    "print(l)"
   ]
  },
  {
   "cell_type": "markdown",
   "id": "53b6d1d1-3b41-4c06-b44b-7695ca0592c4",
   "metadata": {},
   "source": [
    "# Question.5)"
   ]
  },
  {
   "cell_type": "markdown",
   "id": "f468e7c0-4a64-4e5d-9fa5-82b3cb606b49",
   "metadata": {},
   "source": [
    "***Write a program to filter count Vowels in the below given string :- string = \"I want to become a data scientist\"***"
   ]
  },
  {
   "cell_type": "markdown",
   "id": "207a9645-edd5-43d6-bef0-1fbb622b3ce4",
   "metadata": {},
   "source": [
    "**Ans.)**"
   ]
  },
  {
   "cell_type": "code",
   "execution_count": 10,
   "id": "9731b9d9-518b-4ceb-a9a6-0e0b734a9d4a",
   "metadata": {},
   "outputs": [
    {
     "name": "stdout",
     "output_type": "stream",
     "text": [
      "i want to become a data scientist\n",
      "Number of vowels in upper string :- 12\n"
     ]
    }
   ],
   "source": [
    "string = \"I want to become a data scientist\"\n",
    "string = string.lower()\n",
    "vowels = [\"a\", \"e\", \"i\", \"o\", \"u\"]\n",
    "print(string)\n",
    "count = 0\n",
    "\n",
    "for char in string :\n",
    "    if char in vowels :\n",
    "        count = count + 1\n",
    "print(\"Number of vowels in upper string :-\", count)"
   ]
  }
 ],
 "metadata": {
  "kernelspec": {
   "display_name": "Python 3 (ipykernel)",
   "language": "python",
   "name": "python3"
  },
  "language_info": {
   "codemirror_mode": {
    "name": "ipython",
    "version": 3
   },
   "file_extension": ".py",
   "mimetype": "text/x-python",
   "name": "python",
   "nbconvert_exporter": "python",
   "pygments_lexer": "ipython3",
   "version": "3.10.8"
  }
 },
 "nbformat": 4,
 "nbformat_minor": 5
}
