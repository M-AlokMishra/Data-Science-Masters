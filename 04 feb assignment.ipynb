{
 "cells": [
  {
   "cell_type": "markdown",
   "id": "6d0efee9-c299-4eda-80cc-1225a1a37322",
   "metadata": {},
   "source": [
    "# Question.1)"
   ]
  },
  {
   "cell_type": "markdown",
   "id": "2bc5fb8f-f439-40eb-9802-1f4e128bbf18",
   "metadata": {},
   "source": [
    "***Create a python program to sort the given list of tuples based on integer value using a lambda function.***"
   ]
  },
  {
   "cell_type": "markdown",
   "id": "b940289e-b257-405d-a3db-6d1fef6060fe",
   "metadata": {},
   "source": [
    "**[('Sachin Tendulkar', 34357), ('Ricky Ponting', 27483), ('Jack Kallis', 25534), ('Virat Kohli', 24936)]**"
   ]
  },
  {
   "cell_type": "code",
   "execution_count": 1,
   "id": "8929c59a-035f-40e2-9b58-7ea593e571e6",
   "metadata": {},
   "outputs": [
    {
     "data": {
      "text/plain": [
       "[('Virat Kohli', 24936),\n",
       " ('Jack Kallis', 25534),\n",
       " ('Ricky Ponting', 27483),\n",
       " ('Sachin Tendulkar', 34357)]"
      ]
     },
     "execution_count": 1,
     "metadata": {},
     "output_type": "execute_result"
    }
   ],
   "source": [
    "l = [('Sachin Tendulkar', 34357), ('Ricky Ponting', 27483), ('Jack Kallis', 25534), ('Virat Kohli', 24936)]\n",
    "l.sort(key = lambda x : x[1])\n",
    "l"
   ]
  },
  {
   "cell_type": "markdown",
   "id": "666d5ddd-dddb-443d-9e2e-3c0b7f800101",
   "metadata": {},
   "source": [
    "# Question.2)"
   ]
  },
  {
   "cell_type": "markdown",
   "id": "88b00302-7505-46bf-bd6d-c45cfc4e27c1",
   "metadata": {},
   "source": [
    "***Write a Python Program to find the squares of all the numbers in the given list of integers using lambda and map functions.***"
   ]
  },
  {
   "cell_type": "markdown",
   "id": "ac307d9c-3be1-4b86-b53c-43a51c5d1f33",
   "metadata": {},
   "source": [
    "***[1, 2, 3, 4, 5, 6, 7, 8, 9, 10]***"
   ]
  },
  {
   "cell_type": "code",
   "execution_count": 2,
   "id": "b6f55262-2191-4a28-99be-57d3cf2a01dc",
   "metadata": {},
   "outputs": [
    {
     "name": "stdout",
     "output_type": "stream",
     "text": [
      "[1, 4, 9, 16, 25, 36, 49, 64, 81, 100]\n"
     ]
    }
   ],
   "source": [
    "lst = [1, 2, 3, 4, 5, 6, 7, 8, 9, 10]\n",
    "\n",
    "sq = lambda x : x**2\n",
    "print(list(map(sq,lst)))"
   ]
  },
  {
   "cell_type": "markdown",
   "id": "47191d35-48ef-4bc3-9424-643800d0ddcf",
   "metadata": {},
   "source": [
    "# Question.3)"
   ]
  },
  {
   "cell_type": "markdown",
   "id": "64fb32bb-6d25-46f5-9711-f457e228422f",
   "metadata": {},
   "source": [
    "***Write a python program to convert the given list of integers into a tuple of strings. Use map and lambda functions***"
   ]
  },
  {
   "cell_type": "markdown",
   "id": "a3be6aa1-3fb3-4ea9-ae71-3165407dd503",
   "metadata": {},
   "source": [
    "***Given String: [1, 2, 3, 4, 5, 6, 7, 8, 9, 10]***"
   ]
  },
  {
   "cell_type": "markdown",
   "id": "3c0bcf6d-c91c-4f8a-b720-3af909158cdf",
   "metadata": {},
   "source": [
    "***Expected output: ('1', '2', '3', '4', '5', '6', '7', '8', '9', '10')***"
   ]
  },
  {
   "cell_type": "code",
   "execution_count": 3,
   "id": "f831a670-7f9a-42dd-80dc-b7866497ddb4",
   "metadata": {},
   "outputs": [
    {
     "data": {
      "text/plain": [
       "('1', '2', '3', '4', '5', '6', '7', '8', '9', '10')"
      ]
     },
     "execution_count": 3,
     "metadata": {},
     "output_type": "execute_result"
    }
   ],
   "source": [
    "input = [1, 2, 3, 4, 5, 6, 7, 8, 9, 10]\n",
    "output = tuple(map(lambda x : str(x),input))\n",
    "output"
   ]
  },
  {
   "cell_type": "markdown",
   "id": "3527ad37-1a58-4539-9993-7427b17ba1f1",
   "metadata": {},
   "source": [
    "# Question.4)"
   ]
  },
  {
   "cell_type": "markdown",
   "id": "6b86f7c4-dce0-444d-99e2-502a768b8c95",
   "metadata": {},
   "source": [
    "***Write a python program using reduce function to compute the product of a list containing numbers from 1 to 25.***"
   ]
  },
  {
   "cell_type": "code",
   "execution_count": 4,
   "id": "26fef293-0004-4485-b176-41f80bc680be",
   "metadata": {},
   "outputs": [
    {
     "data": {
      "text/plain": [
       "15511210043330985984000000"
      ]
     },
     "execution_count": 4,
     "metadata": {},
     "output_type": "execute_result"
    }
   ],
   "source": [
    "from functools import reduce\n",
    "list1 = []\n",
    "for i in range(1,26):\n",
    "    list1.append(i)\n",
    "reduce(lambda x,y : x*y, list1)"
   ]
  },
  {
   "cell_type": "markdown",
   "id": "8d2f1ccd-3b63-4bae-9e64-8ae2564b5ba1",
   "metadata": {},
   "source": [
    "# Question.5)"
   ]
  },
  {
   "cell_type": "markdown",
   "id": "7fd02dcb-5f48-4c98-9af7-5e41bb8e4538",
   "metadata": {},
   "source": [
    "***Write a python program to filter the numbers in a given list that are divisible by 2 and 3 using the filter function.***"
   ]
  },
  {
   "cell_type": "markdown",
   "id": "78a9baff-811b-497c-91f2-8838ce7184a0",
   "metadata": {},
   "source": [
    "***[2, 3, 6, 9, 27, 60, 90, 120, 55, 46]***"
   ]
  },
  {
   "cell_type": "code",
   "execution_count": null,
   "id": "cd38d58d-0cf8-409e-9dc2-5dcb03245891",
   "metadata": {},
   "outputs": [],
   "source": []
  },
  {
   "cell_type": "code",
   "execution_count": null,
   "id": "f1f341f1-7672-49f7-9167-e312f322fa09",
   "metadata": {},
   "outputs": [],
   "source": []
  },
  {
   "cell_type": "markdown",
   "id": "918a449e-7215-4ddf-be98-80fb67712c39",
   "metadata": {},
   "source": [
    "# Question.6)"
   ]
  },
  {
   "cell_type": "markdown",
   "id": "c8c79c76-b20c-4747-963e-8277527b9c89",
   "metadata": {},
   "source": [
    "***Write a python program to find palindromes in the given list of strings using lambda and filter function.***"
   ]
  },
  {
   "cell_type": "markdown",
   "id": "5caf2141-4b67-40df-9405-94f0dbaaf648",
   "metadata": {},
   "source": [
    "***['python', 'php', 'aba', 'radar', 'level']***"
   ]
  },
  {
   "cell_type": "code",
   "execution_count": null,
   "id": "a8b3cc51-2901-49e3-8df5-4804198fb253",
   "metadata": {},
   "outputs": [],
   "source": []
  },
  {
   "cell_type": "code",
   "execution_count": null,
   "id": "db24a160-f8ff-4a18-974c-399fc459dfed",
   "metadata": {},
   "outputs": [],
   "source": []
  }
 ],
 "metadata": {
  "kernelspec": {
   "display_name": "Python 3 (ipykernel)",
   "language": "python",
   "name": "python3"
  },
  "language_info": {
   "codemirror_mode": {
    "name": "ipython",
    "version": 3
   },
   "file_extension": ".py",
   "mimetype": "text/x-python",
   "name": "python",
   "nbconvert_exporter": "python",
   "pygments_lexer": "ipython3",
   "version": "3.10.8"
  }
 },
 "nbformat": 4,
 "nbformat_minor": 5
}
