{
 "cells": [
  {
   "cell_type": "markdown",
   "id": "8d0bb6d2-f308-4920-9e18-9a6943d723ff",
   "metadata": {},
   "source": [
    "# Question.1)"
   ]
  },
  {
   "cell_type": "markdown",
   "id": "f5f1c644-c003-4b38-b286-c11aac912668",
   "metadata": {},
   "source": [
    "***Create a function which will take a list as an argument and return the product of all the numbers after creating a flat list.***"
   ]
  },
  {
   "cell_type": "markdown",
   "id": "410b0900-d1f3-4622-995e-b1daa958b545",
   "metadata": {},
   "source": [
    "***Use the below-given list as an argument for your function.***"
   ]
  },
  {
   "cell_type": "markdown",
   "id": "5f73611a-5b29-4c39-ae3b-6b3875c4d49c",
   "metadata": {},
   "source": [
    "***list1 = [1,2,3,4, [44,55,66, True], False, (34,56,78,89,34), {1,2,3,3,2,1}, {1:34, \"key2\": [55, 67, 78, 89], 4: (45, 22, 61, 34)}, [56, 'data science'], 'Machine Learning']***"
   ]
  },
  {
   "cell_type": "markdown",
   "id": "4da9fc8f-a5cd-4324-a076-e66ee1cff34c",
   "metadata": {},
   "source": [
    "***Note: you must extract numeric keys and values of the dictionary also.***"
   ]
  },
  {
   "cell_type": "markdown",
   "id": "81eeeeb9-8adc-486b-b61a-777c9f160ff6",
   "metadata": {},
   "source": [
    "**Ans.)**"
   ]
  },
  {
   "cell_type": "code",
   "execution_count": 1,
   "id": "5840c133-4269-42c2-b188-5c8e296c1b7c",
   "metadata": {},
   "outputs": [],
   "source": [
    "def calculate_product(lst):\n",
    "    flat_list = []\n",
    "\n",
    "    # Flatten the list\n",
    "    for item in lst:\n",
    "        if type(item) == list or type(item) == tuple:\n",
    "            flat_list.extend(item)\n",
    "        elif type(item) == dict:\n",
    "            for key, value in item.items():\n",
    "                if type(key) == int or type(value) == int:\n",
    "                    flat_list.append(key)\n",
    "                    flat_list.append(value)\n",
    "                elif type(value) == list or type(value) == tuple:\n",
    "                    flat_list.extend(value)\n",
    "        elif type(item) == int:\n",
    "            flat_list.append(item)\n",
    "\n",
    "    # Calculate the product of all the numbers\n",
    "    product = 1\n",
    "    for item in flat_list:\n",
    "        if type(item) == int:\n",
    "            product *= item\n",
    "    \n",
    "    return product\n"
   ]
  },
  {
   "cell_type": "code",
   "execution_count": 2,
   "id": "a9b81d90-58dd-4710-ac8b-e46361e7cf34",
   "metadata": {},
   "outputs": [
    {
     "name": "stdout",
     "output_type": "stream",
     "text": [
      "The product of all the numbers in the list is :-  335621713680284480844595200\n"
     ]
    }
   ],
   "source": [
    "list1 = [1,2,3,4, [44,55,66, True], False, (34,56,78,89,34), {1,2,3,3,2,1}, {1:34, \"key2\": [55, 67, 78, 89], 4: (45, 22, 61, 34)}, [56, 'data science'], 'Machine Learning']\n",
    "\n",
    "result = calculate_product(list1)\n",
    "print(\"The product of all the numbers in the list is :- \", result)"
   ]
  },
  {
   "cell_type": "markdown",
   "id": "0b5d7681-63f1-4324-bcf0-0f57f65cdec0",
   "metadata": {},
   "source": [
    "# Question.2)"
   ]
  },
  {
   "cell_type": "markdown",
   "id": "00e47acf-a67e-4e0b-9bf0-07de123cc32c",
   "metadata": {},
   "source": [
    "***Write a python program for encrypting a message sent to you by your friend. The logic of encryption should be such that, for a the output should be z. For b, the output should be y. For c, the output should be x respectively. Also, the whitespace should be replaced with a dollar sign. Keep the punctuation marks unchanged.***"
   ]
  },
  {
   "cell_type": "markdown",
   "id": "a5cbfb83-a9a6-4196-8cb4-a37dd22377e4",
   "metadata": {},
   "source": [
    "***Input Sentence: I want to become a Data Scientist.***"
   ]
  },
  {
   "cell_type": "markdown",
   "id": "a6edcdc1-d8f8-4221-b4eb-c51dca863b74",
   "metadata": {},
   "source": [
    "***Encrypt the above input sentence using the program you just created.***"
   ]
  },
  {
   "cell_type": "markdown",
   "id": "8b65d084-a819-4bf3-b123-4191013648b8",
   "metadata": {},
   "source": [
    "***Note: Convert the given input sentence into lowercase before encrypting. The final output should be lowercase.***"
   ]
  },
  {
   "cell_type": "markdown",
   "id": "c0ef5159-2f22-4b2b-a381-daa8dafe2027",
   "metadata": {},
   "source": [
    "**Ans.)**"
   ]
  },
  {
   "cell_type": "code",
   "execution_count": 3,
   "id": "349ab036-d898-4113-9f3a-5579a833db8e",
   "metadata": {},
   "outputs": [],
   "source": [
    "def encrypt_message(message):\n",
    "    encrypted_message = \"\"\n",
    "    for char in message.lower():\n",
    "        if char.isalpha():\n",
    "            encrypted_message += chr(ord('a') + (ord(char) - ord('a') + 25) % 26)\n",
    "        elif char == \" \":\n",
    "            encrypted_message += \"$\"\n",
    "        else:\n",
    "            encrypted_message += char\n",
    "    return encrypted_message\n"
   ]
  },
  {
   "cell_type": "code",
   "execution_count": 4,
   "id": "3bc3cf92-d737-4ae2-be37-a7c1efebfe57",
   "metadata": {},
   "outputs": [
    {
     "name": "stdout",
     "output_type": "stream",
     "text": [
      "Encrypted Message :-  h$vzms$sn$adbnld$z$czsz$rbhdmshrs.\n"
     ]
    }
   ],
   "source": [
    "message = \"I want to become a Data Scientist.\"\n",
    "\n",
    "encrypted_message = encrypt_message(message)\n",
    "print(\"Encrypted Message :- \", encrypted_message)"
   ]
  }
 ],
 "metadata": {
  "kernelspec": {
   "display_name": "Python 3 (ipykernel)",
   "language": "python",
   "name": "python3"
  },
  "language_info": {
   "codemirror_mode": {
    "name": "ipython",
    "version": 3
   },
   "file_extension": ".py",
   "mimetype": "text/x-python",
   "name": "python",
   "nbconvert_exporter": "python",
   "pygments_lexer": "ipython3",
   "version": "3.10.8"
  }
 },
 "nbformat": 4,
 "nbformat_minor": 5
}
