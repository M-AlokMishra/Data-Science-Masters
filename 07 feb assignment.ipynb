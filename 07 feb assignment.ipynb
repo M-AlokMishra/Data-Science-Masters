{
 "cells": [
  {
   "cell_type": "markdown",
   "id": "6e17e2da-be22-4f53-b235-5c8aac5446bd",
   "metadata": {},
   "source": [
    "# Question.1)"
   ]
  },
  {
   "cell_type": "markdown",
   "id": "83096ac5-4da3-4bd9-aee0-293127e955f8",
   "metadata": {},
   "source": [
    "***You are writing code for a company. The requirement of the company is that you create a python function that will check whether the password entered by the user is correct or not. The function should take the password as input and return the string “Valid Password” if the entered password follows the below-given password guidelines else it should return “Invalid Password”.***"
   ]
  },
  {
   "cell_type": "markdown",
   "id": "43531d92-5727-4f74-b3b1-7fbd94b021c3",
   "metadata": {},
   "source": [
    "***Note :-***"
   ]
  },
  {
   "cell_type": "markdown",
   "id": "219a6c8e-f282-413e-8966-e6c847e2ac84",
   "metadata": {},
   "source": [
    "---> ***1. The Password should contain at least two uppercase letters and at least two lowercase letters.***"
   ]
  },
  {
   "cell_type": "markdown",
   "id": "09de931f-a47c-44c0-a013-e560de6404b7",
   "metadata": {},
   "source": [
    "---> ***2. The Password should contain at least a number and three special characters.***"
   ]
  },
  {
   "cell_type": "markdown",
   "id": "dd2fd2fd-5106-40d7-93e1-a4eb34d72d8f",
   "metadata": {},
   "source": [
    "---> ***3. The length of the password should be 10 characters long.***"
   ]
  },
  {
   "cell_type": "markdown",
   "id": "addc26f1-5838-41c7-ae89-04b83aacacaa",
   "metadata": {},
   "source": [
    "***Ans.)***"
   ]
  },
  {
   "cell_type": "code",
   "execution_count": 1,
   "id": "1a2350ee-969f-47af-a519-571e67382490",
   "metadata": {},
   "outputs": [
    {
     "name": "stdin",
     "output_type": "stream",
     "text": [
      "Enter the password: #ALok$123@\n"
     ]
    },
    {
     "name": "stdout",
     "output_type": "stream",
     "text": [
      "Valid Password\n"
     ]
    }
   ],
   "source": [
    "import re\n",
    "password=input(\"Enter the password:\")\n",
    "if (len(password) == 10 \n",
    "    and re.search(r'[A-Z]{2,}', password) \n",
    "    and re.search(r'[a-z]{2,}', password) \n",
    "    and re.search(r'\\d', password) \n",
    "    and re.search(r'[!@#$%^&*()_+-=;:\\'\",.<>/?]{3,}', password)) :\n",
    "    \n",
    "    print(\"Valid Password\")\n",
    "else:\n",
    "    print(\"Invalid Password\")"
   ]
  },
  {
   "cell_type": "markdown",
   "id": "55fa7097-cb1a-45ba-ab58-3147dd42e2c8",
   "metadata": {},
   "source": [
    "# Question.2)"
   ]
  },
  {
   "cell_type": "markdown",
   "id": "be95255e-0918-4583-a942-ce229619ae1c",
   "metadata": {},
   "source": [
    "***Solve the below-given questions using at least one of the following :-***"
   ]
  },
  {
   "cell_type": "markdown",
   "id": "6a9f7e27-f357-4ac1-bacf-5e68d971502f",
   "metadata": {},
   "source": [
    "***1.) Lambda function***"
   ]
  },
  {
   "cell_type": "markdown",
   "id": "f6a34d58-77e3-49fe-98a3-7ab4118f783e",
   "metadata": {},
   "source": [
    "***2.) Filter function***"
   ]
  },
  {
   "cell_type": "markdown",
   "id": "83e822aa-51db-4e71-ab68-2d45695e8ddd",
   "metadata": {},
   "source": [
    "***3.) Map function***"
   ]
  },
  {
   "cell_type": "markdown",
   "id": "df20e51f-699f-4494-b36d-2c421fd41727",
   "metadata": {},
   "source": [
    "***4.) List Comprehension***"
   ]
  },
  {
   "cell_type": "markdown",
   "id": "3d469c13-15e0-438d-92aa-751153efbdc2",
   "metadata": {},
   "source": [
    "***---> Check if the string starts with a particular letter.***"
   ]
  },
  {
   "cell_type": "code",
   "execution_count": 10,
   "id": "7fdc1406-83ac-4ac3-9979-2176933e3be7",
   "metadata": {},
   "outputs": [
    {
     "name": "stdout",
     "output_type": "stream",
     "text": [
      "['alok', 'ayushmaan']\n"
     ]
    }
   ],
   "source": [
    "string_list = ['alok', 'mishra', 'harsh', 'ayushmaan']\n",
    "letter = 'a'\n",
    "result = list(filter(lambda x: x.startswith(letter), string_list))\n",
    "print(result)"
   ]
  },
  {
   "cell_type": "markdown",
   "id": "39834621-ee82-4210-90cd-73e9dd07dc58",
   "metadata": {},
   "source": [
    "***---> Check if the string is numeric.***"
   ]
  },
  {
   "cell_type": "code",
   "execution_count": 12,
   "id": "d7bc0fcb-0ab1-4fc7-a029-063b82c24c73",
   "metadata": {},
   "outputs": [
    {
     "name": "stdout",
     "output_type": "stream",
     "text": [
      "['123', '456']\n"
     ]
    }
   ],
   "source": [
    "string_list = ['123', '456', 'alok']\n",
    "result = list(filter(lambda x: x.isnumeric(), string_list))\n",
    "print(result)"
   ]
  },
  {
   "cell_type": "markdown",
   "id": "96709a5a-e25a-415d-be47-df44b3128b2d",
   "metadata": {},
   "source": [
    "***---> Sort a list of tuples having fruit names and their quantity.*** \n",
    "**[(\"mango\",99),(\"orange\",80), (\"grapes\", 1000)]**"
   ]
  },
  {
   "cell_type": "code",
   "execution_count": 13,
   "id": "a29780d9-de17-4686-b578-ee2c5081147d",
   "metadata": {},
   "outputs": [
    {
     "name": "stdout",
     "output_type": "stream",
     "text": [
      "[('orange', 80), ('mango', 99), ('grapes', 1000)]\n"
     ]
    }
   ],
   "source": [
    "fruits = [(\"mango\", 99), (\"orange\", 80), (\"grapes\", 1000)]\n",
    "result = sorted(fruits, key=lambda x: x[1])\n",
    "print(result)"
   ]
  },
  {
   "cell_type": "markdown",
   "id": "ced6fee9-aa66-4b18-83ef-7cdfbfd57144",
   "metadata": {},
   "source": [
    "***---> Find the squares of numbers from 1 to 10.***"
   ]
  },
  {
   "cell_type": "code",
   "execution_count": 16,
   "id": "68fd38b3-4261-483e-a018-ebc67cf1ace3",
   "metadata": {},
   "outputs": [
    {
     "name": "stdout",
     "output_type": "stream",
     "text": [
      "[1, 4, 9, 16, 25, 36, 49, 64, 81, 100]\n"
     ]
    }
   ],
   "source": [
    "square = [x**2 for x in range(1,11,1)]\n",
    "print(square)"
   ]
  },
  {
   "cell_type": "markdown",
   "id": "143e0135-63ef-4410-9cd4-1640271059f4",
   "metadata": {},
   "source": [
    "***---> Find the cube root of numbers from 1 to 10.***"
   ]
  },
  {
   "cell_type": "code",
   "execution_count": 18,
   "id": "03860d20-5a88-434f-afff-6180993b04d5",
   "metadata": {},
   "outputs": [
    {
     "name": "stdout",
     "output_type": "stream",
     "text": [
      "[1.0, 1.2599210498948732, 1.4422495703074083, 1.5874010519681994, 1.7099759466766968, 1.8171205928321397, 1.912931182772389, 2.0, 2.080083823051904, 2.154434690031884]\n"
     ]
    }
   ],
   "source": [
    "cube_root = [pow(x, 1/3) for x in range(1,11,1)]\n",
    "print(cube_root)"
   ]
  },
  {
   "cell_type": "markdown",
   "id": "0b1ca451-9f3f-41da-a6a1-4937b7e14c57",
   "metadata": {},
   "source": [
    "***---> Check if a given number is even.***"
   ]
  },
  {
   "cell_type": "code",
   "execution_count": 23,
   "id": "f88f2796-9783-4ce3-87de-0f6ee9688216",
   "metadata": {},
   "outputs": [
    {
     "name": "stdin",
     "output_type": "stream",
     "text": [
      "Enter a number:-  45\n"
     ]
    },
    {
     "name": "stdout",
     "output_type": "stream",
     "text": [
      "False\n"
     ]
    }
   ],
   "source": [
    "number = int(input(\"Enter a number:- \"))\n",
    "result = (lambda x: x % 2 == 0)(number)  # even = True / odd = False\n",
    "print(result)"
   ]
  },
  {
   "cell_type": "markdown",
   "id": "ef015f2e-72b5-4024-a87b-a996d2ebb104",
   "metadata": {},
   "source": [
    "***---> Filter odd numbers from the given list.***\n",
    "**[1,2,3,4,5,6,7,8,9,10]**"
   ]
  },
  {
   "cell_type": "code",
   "execution_count": 27,
   "id": "9b75f9e2-e8a0-495a-965f-aaee65f44c33",
   "metadata": {},
   "outputs": [
    {
     "name": "stdout",
     "output_type": "stream",
     "text": [
      "[1, 3, 5, 7, 9]\n"
     ]
    }
   ],
   "source": [
    "l = [1, 2, 3, 4, 5, 6, 7, 8, 9, 10]\n",
    "odd_num = [i for i in l if i%2 != 0]\n",
    "print(odd_num)"
   ]
  },
  {
   "cell_type": "markdown",
   "id": "a6848a32-9b37-4ad2-a5f4-c5e3a50023b1",
   "metadata": {},
   "source": [
    "***---> Sort a list of integers into positive and negative integers lists.***\n",
    "**[1,2,3,4,5,6,-1,-2,-3,-4,-5,0]**"
   ]
  },
  {
   "cell_type": "code",
   "execution_count": 28,
   "id": "4d460ba8-b881-46d3-931d-6f6e49ef3d86",
   "metadata": {},
   "outputs": [
    {
     "name": "stdout",
     "output_type": "stream",
     "text": [
      "[1, 2, 3, 4, 5, 6]\n",
      "[-1, -2, -3, -4, -5]\n"
     ]
    }
   ],
   "source": [
    "l = [1, 2, 3, 4, 5, 6, -1, -2, -3, -4, -5, 0]\n",
    "positive = [x for x in l if x > 0]\n",
    "negative = [x for x in l if x < 0]\n",
    "print(positive)\n",
    "print(negative)"
   ]
  }
 ],
 "metadata": {
  "kernelspec": {
   "display_name": "Python 3 (ipykernel)",
   "language": "python",
   "name": "python3"
  },
  "language_info": {
   "codemirror_mode": {
    "name": "ipython",
    "version": 3
   },
   "file_extension": ".py",
   "mimetype": "text/x-python",
   "name": "python",
   "nbconvert_exporter": "python",
   "pygments_lexer": "ipython3",
   "version": "3.10.8"
  }
 },
 "nbformat": 4,
 "nbformat_minor": 5
}
