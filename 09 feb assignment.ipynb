{
 "cells": [
  {
   "cell_type": "markdown",
   "id": "949ed0ff-d5f6-4c8d-af90-7d0f92cd9254",
   "metadata": {},
   "source": [
    "# Question.1)"
   ]
  },
  {
   "cell_type": "markdown",
   "id": "a4368769-0b24-4dc5-b28d-2d754bd5b060",
   "metadata": {},
   "source": [
    "***Create a vehicle class with an init method having instance variables as name_of_vehicle, max_speed and average_of_vehicle.***"
   ]
  },
  {
   "cell_type": "markdown",
   "id": "764ab1ce-06b0-45e9-87c4-e5037f7cebe5",
   "metadata": {},
   "source": [
    "***Ans.)***"
   ]
  },
  {
   "cell_type": "code",
   "execution_count": 2,
   "id": "72a13612-b8ad-480a-9681-6770ee265c45",
   "metadata": {},
   "outputs": [],
   "source": [
    "class vehical :\n",
    "    \n",
    "    def __init__(self, name_of_vehicle, max_speed, average_of_vehicle) :\n",
    "        self.name_of_vehicle = name_of_vehicle\n",
    "        self.max_speed = max_speed\n",
    "        self.average_of_vehicle = average_of_vehicle\n",
    "        return name_of_vehicle, max_speed, average_of_vehicle"
   ]
  },
  {
   "cell_type": "markdown",
   "id": "0294792a-44b5-4fa2-8e17-81bc99fc38c5",
   "metadata": {},
   "source": [
    "# Question.2)"
   ]
  },
  {
   "cell_type": "markdown",
   "id": "27e1a37b-e3cd-4a4d-b809-9666584f51ac",
   "metadata": {},
   "source": [
    "***Create a child class car from the vehicle class created in Que 1, which will inherit the vehicle class. Create a method named seating_capacity which takes capacity as an argument and returns the name of the vehicle and its seating capacity.***"
   ]
  },
  {
   "cell_type": "markdown",
   "id": "35a03921-40a8-49eb-8204-5ac42f6deb4e",
   "metadata": {},
   "source": [
    "***Ans.)***"
   ]
  },
  {
   "cell_type": "code",
   "execution_count": 18,
   "id": "d90460b6-2bf8-489a-80b4-1fb84c4d82ba",
   "metadata": {},
   "outputs": [],
   "source": [
    "class vehical :\n",
    "    \n",
    "    def __init__(self, name_of_vehicle, max_speed, average_of_vehicle) :\n",
    "        self.name_of_vehicle = name_of_vehicle\n",
    "        self.max_speed = max_speed\n",
    "        self.average_of_vehicle = average_of_vehicle\n",
    "    "
   ]
  },
  {
   "cell_type": "code",
   "execution_count": 19,
   "id": "1d013acd-f3dd-4ec5-99ec-bf8d5fb87f1b",
   "metadata": {},
   "outputs": [],
   "source": [
    "class car(vehical) :\n",
    "    def seating_capacity(self, capacity) :\n",
    "        return self.name_of_vehicle, capacity\n"
   ]
  },
  {
   "cell_type": "code",
   "execution_count": 20,
   "id": "deadd6db-cc5c-4f3a-9bdf-67a0b39f8057",
   "metadata": {},
   "outputs": [],
   "source": [
    "obj_car = car('Toyota', 180, 15)"
   ]
  },
  {
   "cell_type": "code",
   "execution_count": 22,
   "id": "dd81f270-396b-4f7f-88a7-1945edb86bc2",
   "metadata": {},
   "outputs": [
    {
     "data": {
      "text/plain": [
       "('Toyota', 7)"
      ]
     },
     "execution_count": 22,
     "metadata": {},
     "output_type": "execute_result"
    }
   ],
   "source": [
    "obj_car.seating_capacity(7)"
   ]
  },
  {
   "cell_type": "markdown",
   "id": "92489996-e752-40ae-94ce-1368d4cb7013",
   "metadata": {},
   "source": [
    "# Question.3)"
   ]
  },
  {
   "cell_type": "markdown",
   "id": "062a5bda-7df4-4f46-a577-d82c932d4ecb",
   "metadata": {},
   "source": [
    "***What is multiple inheritance? Write a python code to demonstrate multiple inheritance.***"
   ]
  },
  {
   "cell_type": "markdown",
   "id": "55f6c048-c87b-4512-94c0-07008c261d54",
   "metadata": {},
   "source": [
    "***Ans.)*** When Two or more than Two Parent class having only One Child Class that's called multiple inheritance."
   ]
  },
  {
   "cell_type": "code",
   "execution_count": 5,
   "id": "3a63e7d9-7a03-4d55-9615-c409050d46e7",
   "metadata": {},
   "outputs": [],
   "source": [
    "class Father :\n",
    "    \n",
    "    def Father_Class(self) :\n",
    "        return \"It's Father Class will call by child class\""
   ]
  },
  {
   "cell_type": "code",
   "execution_count": 6,
   "id": "0829db9c-0d65-49fd-af70-d01be5b88158",
   "metadata": {},
   "outputs": [],
   "source": [
    "class Mother :\n",
    "    \n",
    "    def Mother_Class(self) :\n",
    "        return \"It's Mother Class also will call by child class\""
   ]
  },
  {
   "cell_type": "code",
   "execution_count": 7,
   "id": "e4b0421c-9748-44fd-ad41-aa12f8b39493",
   "metadata": {},
   "outputs": [],
   "source": [
    "class Child(Father, Mother) :\n",
    "    pass"
   ]
  },
  {
   "cell_type": "code",
   "execution_count": 8,
   "id": "4d3f54be-2980-4f99-aae7-5b1d59af6879",
   "metadata": {},
   "outputs": [],
   "source": [
    "obj_Child = Child()"
   ]
  },
  {
   "cell_type": "code",
   "execution_count": 9,
   "id": "7e25e801-2c87-41af-8843-47ec3a1cef7a",
   "metadata": {},
   "outputs": [
    {
     "data": {
      "text/plain": [
       "\"It's Father Class will call by child class\""
      ]
     },
     "execution_count": 9,
     "metadata": {},
     "output_type": "execute_result"
    }
   ],
   "source": [
    "obj_Child.Father_Class()"
   ]
  },
  {
   "cell_type": "code",
   "execution_count": 10,
   "id": "b0f480ec-3f8b-4fc6-ac14-50e4d84dd901",
   "metadata": {},
   "outputs": [
    {
     "data": {
      "text/plain": [
       "\"It's Mother Class also will call by child class\""
      ]
     },
     "execution_count": 10,
     "metadata": {},
     "output_type": "execute_result"
    }
   ],
   "source": [
    "obj_Child.Mother_Class()"
   ]
  },
  {
   "cell_type": "markdown",
   "id": "517efbff-ebea-4af8-8643-fe454b9fb9da",
   "metadata": {},
   "source": [
    "# Question.4)"
   ]
  },
  {
   "cell_type": "markdown",
   "id": "01a338a5-1feb-4246-aa73-cf1b317122cd",
   "metadata": {},
   "source": [
    "***What are getter and setter in python? Create a class and create a getter and a setter method in this class.***"
   ]
  },
  {
   "cell_type": "markdown",
   "id": "41267801-075b-4cd9-8f8b-65fa41a7ded0",
   "metadata": {},
   "source": [
    "***Ans.)***"
   ]
  },
  {
   "cell_type": "code",
   "execution_count": 11,
   "id": "c72a0929-3f09-4ab1-b663-26c628aea906",
   "metadata": {},
   "outputs": [],
   "source": [
    "class car :\n",
    "    def __init__(self, year, make, model, speed) :\n",
    "        self.__year = year\n",
    "        self.__make = make\n",
    "        self.__model = model\n",
    "        self.__speed = 0\n",
    "        \n",
    "    def set_speed(self, speed) :\n",
    "        self.__speed = 0 if speed < 0 else speed\n",
    "        \n",
    "    def get_speed(self):\n",
    "        return self.__speed"
   ]
  },
  {
   "cell_type": "code",
   "execution_count": 12,
   "id": "8aff8df5-63ee-4ce3-b61c-016fb99070a8",
   "metadata": {},
   "outputs": [],
   "source": [
    "c = car(2021, \"toyota\", \"innova\", 12)"
   ]
  },
  {
   "cell_type": "markdown",
   "id": "6568143d-2531-4397-84b5-6b768efeddb1",
   "metadata": {},
   "source": [
    "**---->** Setter: A method that allows you to set or mutate the value of an attribute in a class."
   ]
  },
  {
   "cell_type": "code",
   "execution_count": 13,
   "id": "1e840a87-24f2-4312-9160-eadf82991980",
   "metadata": {},
   "outputs": [],
   "source": [
    "c.set_speed(-345)"
   ]
  },
  {
   "cell_type": "markdown",
   "id": "ee0f3ff1-2b1a-4944-abee-f72e6c946b02",
   "metadata": {},
   "source": [
    "**---->** Getter: A method that allows you to access an attribute in a given class."
   ]
  },
  {
   "cell_type": "code",
   "execution_count": 14,
   "id": "f451d47a-1dfe-42a9-a66f-f6000fb3f6df",
   "metadata": {},
   "outputs": [
    {
     "data": {
      "text/plain": [
       "0"
      ]
     },
     "execution_count": 14,
     "metadata": {},
     "output_type": "execute_result"
    }
   ],
   "source": [
    "c.get_speed()"
   ]
  },
  {
   "cell_type": "markdown",
   "id": "31beb6f9-0c55-4755-ba93-40060a1340db",
   "metadata": {},
   "source": [
    "# Question.5)"
   ]
  },
  {
   "cell_type": "markdown",
   "id": "f1fb24e5-1bb6-49cd-82fd-603d9df74467",
   "metadata": {},
   "source": [
    "***What is method overriding in python? Write a python code to demonstrate method overriding.***"
   ]
  },
  {
   "cell_type": "markdown",
   "id": "d0140bfb-9bf6-4434-9142-93373bb1f3b8",
   "metadata": {},
   "source": [
    "***Ans.)***"
   ]
  },
  {
   "cell_type": "markdown",
   "id": "58871212-00cc-4ed3-8ee7-1739f209626b",
   "metadata": {},
   "source": [
    "----> Method overriding in Python is when you have two methods with the same name that each perform different tasks. "
   ]
  },
  {
   "cell_type": "code",
   "execution_count": 24,
   "id": "89b13641-eb4e-42dc-b251-ec3dd8593b6a",
   "metadata": {},
   "outputs": [],
   "source": [
    "class A:\n",
    "    def display(self):\n",
    "        print(\"This display method belongs to class A\")\n",
    "class B(A):\n",
    "    def display(self): # using the same method name as class A so that it will override the dislay() method of Class A\n",
    "        print(\"This display method belongs to class B\")\n"
   ]
  },
  {
   "cell_type": "code",
   "execution_count": 25,
   "id": "f97d9605-d445-4f7a-b976-3b38c265a966",
   "metadata": {},
   "outputs": [
    {
     "name": "stdout",
     "output_type": "stream",
     "text": [
      "This display method belongs to class B\n"
     ]
    }
   ],
   "source": [
    "obj_b = B()\n",
    "obj_b.display() "
   ]
  },
  {
   "cell_type": "code",
   "execution_count": null,
   "id": "b3357da7-b314-4f6f-81f8-538f3c2036f2",
   "metadata": {},
   "outputs": [],
   "source": []
  }
 ],
 "metadata": {
  "kernelspec": {
   "display_name": "Python 3 (ipykernel)",
   "language": "python",
   "name": "python3"
  },
  "language_info": {
   "codemirror_mode": {
    "name": "ipython",
    "version": 3
   },
   "file_extension": ".py",
   "mimetype": "text/x-python",
   "name": "python",
   "nbconvert_exporter": "python",
   "pygments_lexer": "ipython3",
   "version": "3.10.8"
  }
 },
 "nbformat": 4,
 "nbformat_minor": 5
}
