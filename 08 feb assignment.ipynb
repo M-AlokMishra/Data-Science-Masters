{
 "cells": [
  {
   "cell_type": "markdown",
   "id": "a0563f9b-e85d-4ed5-a7d6-de3e4ab77841",
   "metadata": {},
   "source": [
    "# Question.1)"
   ]
  },
  {
   "cell_type": "markdown",
   "id": "015edc9f-4858-4fdc-8d14-52b0f5f2d6c9",
   "metadata": {},
   "source": [
    "***What is Abstraction in OOps? Explain with an example.***"
   ]
  },
  {
   "cell_type": "markdown",
   "id": "72d30b33-2ab6-43bc-9e7f-91c499d79fdf",
   "metadata": {},
   "source": [
    "***Ans.)*** Abstraction is hiding the complex code, It is used for creating blueprint of any code or program in OOPs."
   ]
  },
  {
   "cell_type": "code",
   "execution_count": 1,
   "id": "1953a13d-f3d4-40ef-aa95-d4c21d3247b2",
   "metadata": {},
   "outputs": [],
   "source": [
    "import abc\n",
    "\n",
    "class pwskills :\n",
    "    \n",
    "    @abc.abstractmethod\n",
    "    def students_details(self) :\n",
    "        pass\n",
    "    \n",
    "    @abc.abstractmethod\n",
    "    def student_assignment(self) :\n",
    "        pass\n",
    "    \n",
    "    @abc.abstractmethod\n",
    "    def student_marks(self) :\n",
    "        pass"
   ]
  },
  {
   "cell_type": "code",
   "execution_count": 2,
   "id": "1780340f-7b01-4f23-8ac3-91ddd2690837",
   "metadata": {},
   "outputs": [],
   "source": [
    "class student_details(pwskills) :\n",
    "    \n",
    "    def student_details(self) :\n",
    "        return \"This is a method for taking students details\"\n",
    "    \n",
    "    def student_assignment(self) :\n",
    "        return \"This is a method for assign details for a particular students\""
   ]
  },
  {
   "cell_type": "code",
   "execution_count": 3,
   "id": "8398ff93-a85c-461c-bcd9-4417f5743b01",
   "metadata": {},
   "outputs": [],
   "source": [
    "class data_science_masters(pwskills) :\n",
    "    \n",
    "    def student_details(self) :\n",
    "        return \"This will return a student details for data science masters\"\n",
    "    \n",
    "    def student_assignment(self) :\n",
    "        return \"This will give you a student assignment detail for dtat science masters\""
   ]
  },
  {
   "cell_type": "code",
   "execution_count": 4,
   "id": "0065c43c-8497-4401-90b7-0ae09cb8a756",
   "metadata": {},
   "outputs": [
    {
     "data": {
      "text/plain": [
       "'This will return a student details for data science masters'"
      ]
     },
     "execution_count": 4,
     "metadata": {},
     "output_type": "execute_result"
    }
   ],
   "source": [
    "dsm = data_science_masters()\n",
    "dsm.student_details()"
   ]
  },
  {
   "cell_type": "code",
   "execution_count": 5,
   "id": "23b879b3-b23c-4041-b56f-795636ab3bfa",
   "metadata": {},
   "outputs": [
    {
     "data": {
      "text/plain": [
       "'This is a method for taking students details'"
      ]
     },
     "execution_count": 5,
     "metadata": {},
     "output_type": "execute_result"
    }
   ],
   "source": [
    "sd = student_details()\n",
    "sd.student_details()"
   ]
  },
  {
   "cell_type": "markdown",
   "id": "33496343-6cea-468b-9a60-0e705c199a19",
   "metadata": {},
   "source": [
    "# Question.2)"
   ]
  },
  {
   "cell_type": "markdown",
   "id": "0a0aa98b-5fae-4414-903a-aa0bcc26e6b9",
   "metadata": {},
   "source": [
    "***Differentiate between Abstraction and Encapsulation. Explain with an example.***"
   ]
  },
  {
   "cell_type": "markdown",
   "id": "b984f496-4c46-447d-aa66-104b7d092439",
   "metadata": {},
   "source": [
    "***Ans.)***"
   ]
  },
  {
   "cell_type": "markdown",
   "id": "b71f6312-c25f-4dbd-beb3-21c2eb57b27b",
   "metadata": {},
   "source": [
    "***---> Abstraction is hiding the complex code.***"
   ]
  },
  {
   "cell_type": "code",
   "execution_count": 6,
   "id": "cbe2db59-149f-48f4-a0e3-4f3b37b57db5",
   "metadata": {},
   "outputs": [],
   "source": [
    "import abc\n",
    "\n",
    "class pwskills :\n",
    "    \n",
    "    @abc.abstractmethod\n",
    "    def students_details(self) :\n",
    "        pass\n",
    "    \n",
    "    @abc.abstractmethod\n",
    "    def student_assignment(self) :\n",
    "        pass\n",
    "    \n",
    "    @abc.abstractmethod\n",
    "    def student_marks(self) :\n",
    "        pass"
   ]
  },
  {
   "cell_type": "code",
   "execution_count": 7,
   "id": "dc018555-ccb3-49dc-a199-cf3ea98549fa",
   "metadata": {},
   "outputs": [],
   "source": [
    "class student_details(pwskills) :\n",
    "    \n",
    "    def student_details(self) :\n",
    "        return \"This is a method for taking students details\"\n",
    "    \n",
    "    def student_assignment(self) :\n",
    "        return \"This is a method for assign details for a particular students\""
   ]
  },
  {
   "cell_type": "code",
   "execution_count": 8,
   "id": "48c00628-bbb0-4fc2-ae80-959e0982c0d8",
   "metadata": {},
   "outputs": [],
   "source": [
    "class data_science_masters(pwskills) :\n",
    "    \n",
    "    def student_details(self) :\n",
    "        return \"This will return a student details for data science masters\"\n",
    "    \n",
    "    def student_assignment(self) :\n",
    "        return \"This will give you a student assignment detail for dtat science masters\""
   ]
  },
  {
   "cell_type": "code",
   "execution_count": 9,
   "id": "cc79df46-ebc5-4514-8136-e2da06f669c6",
   "metadata": {},
   "outputs": [
    {
     "data": {
      "text/plain": [
       "'This will return a student details for data science masters'"
      ]
     },
     "execution_count": 9,
     "metadata": {},
     "output_type": "execute_result"
    }
   ],
   "source": [
    "dsm = data_science_masters()\n",
    "dsm.student_details()"
   ]
  },
  {
   "cell_type": "code",
   "execution_count": 10,
   "id": "972366b1-3285-4677-be58-d439d9359b5b",
   "metadata": {},
   "outputs": [
    {
     "data": {
      "text/plain": [
       "'This is a method for taking students details'"
      ]
     },
     "execution_count": 10,
     "metadata": {},
     "output_type": "execute_result"
    }
   ],
   "source": [
    "sd = student_details()\n",
    "sd.student_details()"
   ]
  },
  {
   "cell_type": "markdown",
   "id": "d6c43a0c-2ed9-4948-9dc8-9c60c5fb7e44",
   "metadata": {},
   "source": [
    "***---> Encapsulation is binding the complex code.***"
   ]
  },
  {
   "cell_type": "code",
   "execution_count": 11,
   "id": "79c2b29b-59e9-43eb-8e39-348eb6cd1057",
   "metadata": {},
   "outputs": [],
   "source": [
    "class bank_account :\n",
    "    \n",
    "    def __init__(self, balance):\n",
    "        self.__balance= balance\n",
    "        \n",
    "    def deposit(self, amount) :\n",
    "        self.__balance = self.__balance + amount\n",
    "        \n",
    "    def withdraw(self, amount) :\n",
    "        if self.__balance >= amount :\n",
    "            self.__balance = self.__balance - amount\n",
    "            return True\n",
    "        else :\n",
    "            return False\n",
    "        \n",
    "    def get_balance(self) :\n",
    "        return self.__balance\n",
    "    "
   ]
  },
  {
   "cell_type": "code",
   "execution_count": 12,
   "id": "64c1cf5b-27f3-4743-a392-7607ee860550",
   "metadata": {},
   "outputs": [],
   "source": [
    "alok = bank_account(1000)"
   ]
  },
  {
   "cell_type": "code",
   "execution_count": 13,
   "id": "3c4a1973-e262-4797-87ca-fc1256a3bf89",
   "metadata": {},
   "outputs": [
    {
     "data": {
      "text/plain": [
       "1000"
      ]
     },
     "execution_count": 13,
     "metadata": {},
     "output_type": "execute_result"
    }
   ],
   "source": [
    "alok.get_balance()"
   ]
  },
  {
   "cell_type": "code",
   "execution_count": 14,
   "id": "1a63de3d-95c7-4353-97fb-1bd9311e244e",
   "metadata": {},
   "outputs": [],
   "source": [
    "alok.deposit(5000)"
   ]
  },
  {
   "cell_type": "code",
   "execution_count": 15,
   "id": "0d877160-29cc-467d-b0b1-ab6f63e61c97",
   "metadata": {},
   "outputs": [
    {
     "data": {
      "text/plain": [
       "6000"
      ]
     },
     "execution_count": 15,
     "metadata": {},
     "output_type": "execute_result"
    }
   ],
   "source": [
    "alok.get_balance()"
   ]
  },
  {
   "cell_type": "code",
   "execution_count": 16,
   "id": "875d0cc5-cc41-43a6-b39d-c83d558303af",
   "metadata": {},
   "outputs": [
    {
     "data": {
      "text/plain": [
       "False"
      ]
     },
     "execution_count": 16,
     "metadata": {},
     "output_type": "execute_result"
    }
   ],
   "source": [
    "alok.withdraw(9000)"
   ]
  },
  {
   "cell_type": "code",
   "execution_count": 17,
   "id": "657bc37d-c209-4029-85e7-6eb11e23f8e3",
   "metadata": {},
   "outputs": [
    {
     "data": {
      "text/plain": [
       "True"
      ]
     },
     "execution_count": 17,
     "metadata": {},
     "output_type": "execute_result"
    }
   ],
   "source": [
    "alok.withdraw(2000)"
   ]
  },
  {
   "cell_type": "code",
   "execution_count": 18,
   "id": "00d019b1-001e-4b48-a1ab-81ee75869767",
   "metadata": {},
   "outputs": [
    {
     "data": {
      "text/plain": [
       "4000"
      ]
     },
     "execution_count": 18,
     "metadata": {},
     "output_type": "execute_result"
    }
   ],
   "source": [
    "alok.get_balance()"
   ]
  },
  {
   "cell_type": "markdown",
   "id": "6eb41044-ff9c-4c66-8442-431433410392",
   "metadata": {},
   "source": [
    "# Question.3)"
   ]
  },
  {
   "cell_type": "markdown",
   "id": "085c734c-fc25-48e1-805f-ed50c73daa03",
   "metadata": {},
   "source": [
    "***What is abc module in python? Why is it used?***"
   ]
  },
  {
   "cell_type": "markdown",
   "id": "a38282f6-a3b2-40d2-97d6-b843bdb715fb",
   "metadata": {},
   "source": [
    "***Ans.)***"
   ]
  },
  {
   "cell_type": "markdown",
   "id": "85dfa474-7ae9-4593-88b4-480c07e18467",
   "metadata": {},
   "source": [
    "----> abc module provides the infrastructure for defining abstract base classes (ABCs) in Python."
   ]
  },
  {
   "cell_type": "markdown",
   "id": "7ab85258-30e9-47f8-a0ed-036f3d406c86",
   "metadata": {},
   "source": [
    "----> The 'abc' module in the Python library provides the infrastructure for defining custom abstract base classes."
   ]
  },
  {
   "cell_type": "markdown",
   "id": "b4c61cce-b0c3-47cc-9f4b-ebdadff40610",
   "metadata": {},
   "source": [
    "# Question.4)"
   ]
  },
  {
   "cell_type": "markdown",
   "id": "3275523c-6b81-44fe-ba42-07db7884f69c",
   "metadata": {},
   "source": [
    "***How can we achieve data abstraction?***"
   ]
  },
  {
   "cell_type": "markdown",
   "id": "0088fc62-25b2-444e-aba5-eaea68126b10",
   "metadata": {},
   "source": [
    "***Ans.)*** abstraction can be achieved by having/using abstract classes and methods in our programs."
   ]
  },
  {
   "cell_type": "markdown",
   "id": "ee95c1f7-6d8a-4abb-abb5-bb00b490f63e",
   "metadata": {},
   "source": [
    "# Question.5)"
   ]
  },
  {
   "cell_type": "markdown",
   "id": "6aaa8ad3-ed30-42df-bdc0-3628bba724e1",
   "metadata": {},
   "source": [
    "***Can we create an instance of an abstract class? Explain your answer.***"
   ]
  },
  {
   "cell_type": "markdown",
   "id": "6ef04351-49ea-42c3-af20-e4d7ece3b3a0",
   "metadata": {},
   "source": [
    "***Ans.)*** Abstract classes are not complete, as they may have some methods that are not defined. So we cannot create an instance or object of an abstract class in Python."
   ]
  }
 ],
 "metadata": {
  "kernelspec": {
   "display_name": "Python 3 (ipykernel)",
   "language": "python",
   "name": "python3"
  },
  "language_info": {
   "codemirror_mode": {
    "name": "ipython",
    "version": 3
   },
   "file_extension": ".py",
   "mimetype": "text/x-python",
   "name": "python",
   "nbconvert_exporter": "python",
   "pygments_lexer": "ipython3",
   "version": "3.10.8"
  }
 },
 "nbformat": 4,
 "nbformat_minor": 5
}
